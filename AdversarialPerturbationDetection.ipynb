{
  "nbformat": 4,
  "nbformat_minor": 0,
  "metadata": {
    "accelerator": "GPU",
    "colab": {
      "name": "Data Mining Final Contest.ipynb",
      "provenance": [],
      "collapsed_sections": [
        "O3gKdwAnkLJy",
        "UUh18ddElLOo",
        "_d6drSVSujyw",
        "tLTBkpQIkUvC",
        "Ce1pOXKbdKdH",
        "1j1caljz2r2G",
        "ZJvcOscIFxSJ",
        "298roOmrF0Io",
        "wEwkGUGoUNCx"
      ],
      "toc_visible": true
    },
    "kernelspec": {
      "display_name": "Python 3",
      "name": "python3"
    },
    "widgets": {
      "application/vnd.jupyter.widget-state+json": {
        "e162ff94eeab4fdb89bcacd4a18fdcdd": {
          "model_module": "@jupyter-widgets/controls",
          "model_name": "HBoxModel",
          "state": {
            "_view_name": "HBoxView",
            "_dom_classes": [],
            "_model_name": "HBoxModel",
            "_view_module": "@jupyter-widgets/controls",
            "_model_module_version": "1.5.0",
            "_view_count": null,
            "_view_module_version": "1.5.0",
            "box_style": "",
            "layout": "IPY_MODEL_392bc0f0764b41d0aab76d2c01b64bb1",
            "_model_module": "@jupyter-widgets/controls",
            "children": [
              "IPY_MODEL_85f2f699aa5b4d80bb6b837f595ce1e0",
              "IPY_MODEL_0a402e5fea894d2388ef1d44f014af05"
            ]
          }
        },
        "392bc0f0764b41d0aab76d2c01b64bb1": {
          "model_module": "@jupyter-widgets/base",
          "model_name": "LayoutModel",
          "state": {
            "_view_name": "LayoutView",
            "grid_template_rows": null,
            "right": null,
            "justify_content": null,
            "_view_module": "@jupyter-widgets/base",
            "overflow": null,
            "_model_module_version": "1.2.0",
            "_view_count": null,
            "flex_flow": null,
            "width": null,
            "min_width": null,
            "border": null,
            "align_items": null,
            "bottom": null,
            "_model_module": "@jupyter-widgets/base",
            "top": null,
            "grid_column": null,
            "overflow_y": null,
            "overflow_x": null,
            "grid_auto_flow": null,
            "grid_area": null,
            "grid_template_columns": null,
            "flex": null,
            "_model_name": "LayoutModel",
            "justify_items": null,
            "grid_row": null,
            "max_height": null,
            "align_content": null,
            "visibility": null,
            "align_self": null,
            "height": null,
            "min_height": null,
            "padding": null,
            "grid_auto_rows": null,
            "grid_gap": null,
            "max_width": null,
            "order": null,
            "_view_module_version": "1.2.0",
            "grid_template_areas": null,
            "object_position": null,
            "object_fit": null,
            "grid_auto_columns": null,
            "margin": null,
            "display": null,
            "left": null
          }
        },
        "85f2f699aa5b4d80bb6b837f595ce1e0": {
          "model_module": "@jupyter-widgets/controls",
          "model_name": "FloatProgressModel",
          "state": {
            "_view_name": "ProgressView",
            "style": "IPY_MODEL_1b280b3794894c4dabb1348e247df368",
            "_dom_classes": [],
            "description": "100%",
            "_model_name": "FloatProgressModel",
            "bar_style": "success",
            "max": 244418560,
            "_view_module": "@jupyter-widgets/controls",
            "_model_module_version": "1.5.0",
            "value": 244418560,
            "_view_count": null,
            "_view_module_version": "1.5.0",
            "orientation": "horizontal",
            "min": 0,
            "description_tooltip": null,
            "_model_module": "@jupyter-widgets/controls",
            "layout": "IPY_MODEL_530d8b93b9cc481984c2e35d3008c87c"
          }
        },
        "0a402e5fea894d2388ef1d44f014af05": {
          "model_module": "@jupyter-widgets/controls",
          "model_name": "HTMLModel",
          "state": {
            "_view_name": "HTMLView",
            "style": "IPY_MODEL_bb013603c0084b8388674f8bef657b1c",
            "_dom_classes": [],
            "description": "",
            "_model_name": "HTMLModel",
            "placeholder": "​",
            "_view_module": "@jupyter-widgets/controls",
            "_model_module_version": "1.5.0",
            "value": " 233M/233M [00:03&lt;00:00, 63.3MB/s]",
            "_view_count": null,
            "_view_module_version": "1.5.0",
            "description_tooltip": null,
            "_model_module": "@jupyter-widgets/controls",
            "layout": "IPY_MODEL_d2e5d05e1b914c63a89fe81ee2b8981b"
          }
        },
        "1b280b3794894c4dabb1348e247df368": {
          "model_module": "@jupyter-widgets/controls",
          "model_name": "ProgressStyleModel",
          "state": {
            "_view_name": "StyleView",
            "_model_name": "ProgressStyleModel",
            "description_width": "initial",
            "_view_module": "@jupyter-widgets/base",
            "_model_module_version": "1.5.0",
            "_view_count": null,
            "_view_module_version": "1.2.0",
            "bar_color": null,
            "_model_module": "@jupyter-widgets/controls"
          }
        },
        "530d8b93b9cc481984c2e35d3008c87c": {
          "model_module": "@jupyter-widgets/base",
          "model_name": "LayoutModel",
          "state": {
            "_view_name": "LayoutView",
            "grid_template_rows": null,
            "right": null,
            "justify_content": null,
            "_view_module": "@jupyter-widgets/base",
            "overflow": null,
            "_model_module_version": "1.2.0",
            "_view_count": null,
            "flex_flow": null,
            "width": null,
            "min_width": null,
            "border": null,
            "align_items": null,
            "bottom": null,
            "_model_module": "@jupyter-widgets/base",
            "top": null,
            "grid_column": null,
            "overflow_y": null,
            "overflow_x": null,
            "grid_auto_flow": null,
            "grid_area": null,
            "grid_template_columns": null,
            "flex": null,
            "_model_name": "LayoutModel",
            "justify_items": null,
            "grid_row": null,
            "max_height": null,
            "align_content": null,
            "visibility": null,
            "align_self": null,
            "height": null,
            "min_height": null,
            "padding": null,
            "grid_auto_rows": null,
            "grid_gap": null,
            "max_width": null,
            "order": null,
            "_view_module_version": "1.2.0",
            "grid_template_areas": null,
            "object_position": null,
            "object_fit": null,
            "grid_auto_columns": null,
            "margin": null,
            "display": null,
            "left": null
          }
        },
        "bb013603c0084b8388674f8bef657b1c": {
          "model_module": "@jupyter-widgets/controls",
          "model_name": "DescriptionStyleModel",
          "state": {
            "_view_name": "StyleView",
            "_model_name": "DescriptionStyleModel",
            "description_width": "",
            "_view_module": "@jupyter-widgets/base",
            "_model_module_version": "1.5.0",
            "_view_count": null,
            "_view_module_version": "1.2.0",
            "_model_module": "@jupyter-widgets/controls"
          }
        },
        "d2e5d05e1b914c63a89fe81ee2b8981b": {
          "model_module": "@jupyter-widgets/base",
          "model_name": "LayoutModel",
          "state": {
            "_view_name": "LayoutView",
            "grid_template_rows": null,
            "right": null,
            "justify_content": null,
            "_view_module": "@jupyter-widgets/base",
            "overflow": null,
            "_model_module_version": "1.2.0",
            "_view_count": null,
            "flex_flow": null,
            "width": null,
            "min_width": null,
            "border": null,
            "align_items": null,
            "bottom": null,
            "_model_module": "@jupyter-widgets/base",
            "top": null,
            "grid_column": null,
            "overflow_y": null,
            "overflow_x": null,
            "grid_auto_flow": null,
            "grid_area": null,
            "grid_template_columns": null,
            "flex": null,
            "_model_name": "LayoutModel",
            "justify_items": null,
            "grid_row": null,
            "max_height": null,
            "align_content": null,
            "visibility": null,
            "align_self": null,
            "height": null,
            "min_height": null,
            "padding": null,
            "grid_auto_rows": null,
            "grid_gap": null,
            "max_width": null,
            "order": null,
            "_view_module_version": "1.2.0",
            "grid_template_areas": null,
            "object_position": null,
            "object_fit": null,
            "grid_auto_columns": null,
            "margin": null,
            "display": null,
            "left": null
          }
        },
        "2accf1c5de694ac1a1ef5df043929db6": {
          "model_module": "@jupyter-widgets/controls",
          "model_name": "HBoxModel",
          "state": {
            "_view_name": "HBoxView",
            "_dom_classes": [],
            "_model_name": "HBoxModel",
            "_view_module": "@jupyter-widgets/controls",
            "_model_module_version": "1.5.0",
            "_view_count": null,
            "_view_module_version": "1.5.0",
            "box_style": "",
            "layout": "IPY_MODEL_df0bd16951894c3488cc7324bae663d4",
            "_model_module": "@jupyter-widgets/controls",
            "children": [
              "IPY_MODEL_98e7c787741b4ffda97c46eebb37f658",
              "IPY_MODEL_38cc27ec45e3474189c67472b706bdd0"
            ]
          }
        },
        "df0bd16951894c3488cc7324bae663d4": {
          "model_module": "@jupyter-widgets/base",
          "model_name": "LayoutModel",
          "state": {
            "_view_name": "LayoutView",
            "grid_template_rows": null,
            "right": null,
            "justify_content": null,
            "_view_module": "@jupyter-widgets/base",
            "overflow": null,
            "_model_module_version": "1.2.0",
            "_view_count": null,
            "flex_flow": null,
            "width": null,
            "min_width": null,
            "border": null,
            "align_items": null,
            "bottom": null,
            "_model_module": "@jupyter-widgets/base",
            "top": null,
            "grid_column": null,
            "overflow_y": null,
            "overflow_x": null,
            "grid_auto_flow": null,
            "grid_area": null,
            "grid_template_columns": null,
            "flex": null,
            "_model_name": "LayoutModel",
            "justify_items": null,
            "grid_row": null,
            "max_height": null,
            "align_content": null,
            "visibility": null,
            "align_self": null,
            "height": null,
            "min_height": null,
            "padding": null,
            "grid_auto_rows": null,
            "grid_gap": null,
            "max_width": null,
            "order": null,
            "_view_module_version": "1.2.0",
            "grid_template_areas": null,
            "object_position": null,
            "object_fit": null,
            "grid_auto_columns": null,
            "margin": null,
            "display": null,
            "left": null
          }
        },
        "98e7c787741b4ffda97c46eebb37f658": {
          "model_module": "@jupyter-widgets/controls",
          "model_name": "FloatProgressModel",
          "state": {
            "_view_name": "ProgressView",
            "style": "IPY_MODEL_628af7af14c64bfab341356e761eda32",
            "_dom_classes": [],
            "description": "100%",
            "_model_name": "FloatProgressModel",
            "bar_style": "success",
            "max": 740,
            "_view_module": "@jupyter-widgets/controls",
            "_model_module_version": "1.5.0",
            "value": 740,
            "_view_count": null,
            "_view_module_version": "1.5.0",
            "orientation": "horizontal",
            "min": 0,
            "description_tooltip": null,
            "_model_module": "@jupyter-widgets/controls",
            "layout": "IPY_MODEL_51c71fb3be8d4d29afd1a528ba201902"
          }
        },
        "38cc27ec45e3474189c67472b706bdd0": {
          "model_module": "@jupyter-widgets/controls",
          "model_name": "HTMLModel",
          "state": {
            "_view_name": "HTMLView",
            "style": "IPY_MODEL_0b1657223b8f416d9e2ebc3afb4d8ca9",
            "_dom_classes": [],
            "description": "",
            "_model_name": "HTMLModel",
            "placeholder": "​",
            "_view_module": "@jupyter-widgets/controls",
            "_model_module_version": "1.5.0",
            "value": " 740/740 [01:03&lt;00:00, 11.69it/s]",
            "_view_count": null,
            "_view_module_version": "1.5.0",
            "description_tooltip": null,
            "_model_module": "@jupyter-widgets/controls",
            "layout": "IPY_MODEL_17f7213f1f4a4ab0b0d3d3e31b955050"
          }
        },
        "628af7af14c64bfab341356e761eda32": {
          "model_module": "@jupyter-widgets/controls",
          "model_name": "ProgressStyleModel",
          "state": {
            "_view_name": "StyleView",
            "_model_name": "ProgressStyleModel",
            "description_width": "initial",
            "_view_module": "@jupyter-widgets/base",
            "_model_module_version": "1.5.0",
            "_view_count": null,
            "_view_module_version": "1.2.0",
            "bar_color": null,
            "_model_module": "@jupyter-widgets/controls"
          }
        },
        "51c71fb3be8d4d29afd1a528ba201902": {
          "model_module": "@jupyter-widgets/base",
          "model_name": "LayoutModel",
          "state": {
            "_view_name": "LayoutView",
            "grid_template_rows": null,
            "right": null,
            "justify_content": null,
            "_view_module": "@jupyter-widgets/base",
            "overflow": null,
            "_model_module_version": "1.2.0",
            "_view_count": null,
            "flex_flow": null,
            "width": null,
            "min_width": null,
            "border": null,
            "align_items": null,
            "bottom": null,
            "_model_module": "@jupyter-widgets/base",
            "top": null,
            "grid_column": null,
            "overflow_y": null,
            "overflow_x": null,
            "grid_auto_flow": null,
            "grid_area": null,
            "grid_template_columns": null,
            "flex": null,
            "_model_name": "LayoutModel",
            "justify_items": null,
            "grid_row": null,
            "max_height": null,
            "align_content": null,
            "visibility": null,
            "align_self": null,
            "height": null,
            "min_height": null,
            "padding": null,
            "grid_auto_rows": null,
            "grid_gap": null,
            "max_width": null,
            "order": null,
            "_view_module_version": "1.2.0",
            "grid_template_areas": null,
            "object_position": null,
            "object_fit": null,
            "grid_auto_columns": null,
            "margin": null,
            "display": null,
            "left": null
          }
        },
        "0b1657223b8f416d9e2ebc3afb4d8ca9": {
          "model_module": "@jupyter-widgets/controls",
          "model_name": "DescriptionStyleModel",
          "state": {
            "_view_name": "StyleView",
            "_model_name": "DescriptionStyleModel",
            "description_width": "",
            "_view_module": "@jupyter-widgets/base",
            "_model_module_version": "1.5.0",
            "_view_count": null,
            "_view_module_version": "1.2.0",
            "_model_module": "@jupyter-widgets/controls"
          }
        },
        "17f7213f1f4a4ab0b0d3d3e31b955050": {
          "model_module": "@jupyter-widgets/base",
          "model_name": "LayoutModel",
          "state": {
            "_view_name": "LayoutView",
            "grid_template_rows": null,
            "right": null,
            "justify_content": null,
            "_view_module": "@jupyter-widgets/base",
            "overflow": null,
            "_model_module_version": "1.2.0",
            "_view_count": null,
            "flex_flow": null,
            "width": null,
            "min_width": null,
            "border": null,
            "align_items": null,
            "bottom": null,
            "_model_module": "@jupyter-widgets/base",
            "top": null,
            "grid_column": null,
            "overflow_y": null,
            "overflow_x": null,
            "grid_auto_flow": null,
            "grid_area": null,
            "grid_template_columns": null,
            "flex": null,
            "_model_name": "LayoutModel",
            "justify_items": null,
            "grid_row": null,
            "max_height": null,
            "align_content": null,
            "visibility": null,
            "align_self": null,
            "height": null,
            "min_height": null,
            "padding": null,
            "grid_auto_rows": null,
            "grid_gap": null,
            "max_width": null,
            "order": null,
            "_view_module_version": "1.2.0",
            "grid_template_areas": null,
            "object_position": null,
            "object_fit": null,
            "grid_auto_columns": null,
            "margin": null,
            "display": null,
            "left": null
          }
        },
        "7bebfe77e5d344ba84663484ca1a6d05": {
          "model_module": "@jupyter-widgets/controls",
          "model_name": "HBoxModel",
          "state": {
            "_view_name": "HBoxView",
            "_dom_classes": [],
            "_model_name": "HBoxModel",
            "_view_module": "@jupyter-widgets/controls",
            "_model_module_version": "1.5.0",
            "_view_count": null,
            "_view_module_version": "1.5.0",
            "box_style": "",
            "layout": "IPY_MODEL_5aa13f0370fb42b19437ad0cbf10be60",
            "_model_module": "@jupyter-widgets/controls",
            "children": [
              "IPY_MODEL_c3338f81943c4e44b299b76f57dda333",
              "IPY_MODEL_6521efa11ffc48d08b94307d3f950a02"
            ]
          }
        },
        "5aa13f0370fb42b19437ad0cbf10be60": {
          "model_module": "@jupyter-widgets/base",
          "model_name": "LayoutModel",
          "state": {
            "_view_name": "LayoutView",
            "grid_template_rows": null,
            "right": null,
            "justify_content": null,
            "_view_module": "@jupyter-widgets/base",
            "overflow": null,
            "_model_module_version": "1.2.0",
            "_view_count": null,
            "flex_flow": null,
            "width": null,
            "min_width": null,
            "border": null,
            "align_items": null,
            "bottom": null,
            "_model_module": "@jupyter-widgets/base",
            "top": null,
            "grid_column": null,
            "overflow_y": null,
            "overflow_x": null,
            "grid_auto_flow": null,
            "grid_area": null,
            "grid_template_columns": null,
            "flex": null,
            "_model_name": "LayoutModel",
            "justify_items": null,
            "grid_row": null,
            "max_height": null,
            "align_content": null,
            "visibility": null,
            "align_self": null,
            "height": null,
            "min_height": null,
            "padding": null,
            "grid_auto_rows": null,
            "grid_gap": null,
            "max_width": null,
            "order": null,
            "_view_module_version": "1.2.0",
            "grid_template_areas": null,
            "object_position": null,
            "object_fit": null,
            "grid_auto_columns": null,
            "margin": null,
            "display": null,
            "left": null
          }
        },
        "c3338f81943c4e44b299b76f57dda333": {
          "model_module": "@jupyter-widgets/controls",
          "model_name": "FloatProgressModel",
          "state": {
            "_view_name": "ProgressView",
            "style": "IPY_MODEL_e4b5a9f0d50342359da714db1d5d6b78",
            "_dom_classes": [],
            "description": "100%",
            "_model_name": "FloatProgressModel",
            "bar_style": "success",
            "max": 1200,
            "_view_module": "@jupyter-widgets/controls",
            "_model_module_version": "1.5.0",
            "value": 1200,
            "_view_count": null,
            "_view_module_version": "1.5.0",
            "orientation": "horizontal",
            "min": 0,
            "description_tooltip": null,
            "_model_module": "@jupyter-widgets/controls",
            "layout": "IPY_MODEL_d2a1a57d2f464e6aba252032b8989c13"
          }
        },
        "6521efa11ffc48d08b94307d3f950a02": {
          "model_module": "@jupyter-widgets/controls",
          "model_name": "HTMLModel",
          "state": {
            "_view_name": "HTMLView",
            "style": "IPY_MODEL_911682bf97b64f7a8f2bd3ced87149aa",
            "_dom_classes": [],
            "description": "",
            "_model_name": "HTMLModel",
            "placeholder": "​",
            "_view_module": "@jupyter-widgets/controls",
            "_model_module_version": "1.5.0",
            "value": " 1200/1200 [08:32&lt;00:00,  2.34it/s]",
            "_view_count": null,
            "_view_module_version": "1.5.0",
            "description_tooltip": null,
            "_model_module": "@jupyter-widgets/controls",
            "layout": "IPY_MODEL_c4bcbafa317e4677af487560332894b2"
          }
        },
        "e4b5a9f0d50342359da714db1d5d6b78": {
          "model_module": "@jupyter-widgets/controls",
          "model_name": "ProgressStyleModel",
          "state": {
            "_view_name": "StyleView",
            "_model_name": "ProgressStyleModel",
            "description_width": "initial",
            "_view_module": "@jupyter-widgets/base",
            "_model_module_version": "1.5.0",
            "_view_count": null,
            "_view_module_version": "1.2.0",
            "bar_color": null,
            "_model_module": "@jupyter-widgets/controls"
          }
        },
        "d2a1a57d2f464e6aba252032b8989c13": {
          "model_module": "@jupyter-widgets/base",
          "model_name": "LayoutModel",
          "state": {
            "_view_name": "LayoutView",
            "grid_template_rows": null,
            "right": null,
            "justify_content": null,
            "_view_module": "@jupyter-widgets/base",
            "overflow": null,
            "_model_module_version": "1.2.0",
            "_view_count": null,
            "flex_flow": null,
            "width": null,
            "min_width": null,
            "border": null,
            "align_items": null,
            "bottom": null,
            "_model_module": "@jupyter-widgets/base",
            "top": null,
            "grid_column": null,
            "overflow_y": null,
            "overflow_x": null,
            "grid_auto_flow": null,
            "grid_area": null,
            "grid_template_columns": null,
            "flex": null,
            "_model_name": "LayoutModel",
            "justify_items": null,
            "grid_row": null,
            "max_height": null,
            "align_content": null,
            "visibility": null,
            "align_self": null,
            "height": null,
            "min_height": null,
            "padding": null,
            "grid_auto_rows": null,
            "grid_gap": null,
            "max_width": null,
            "order": null,
            "_view_module_version": "1.2.0",
            "grid_template_areas": null,
            "object_position": null,
            "object_fit": null,
            "grid_auto_columns": null,
            "margin": null,
            "display": null,
            "left": null
          }
        },
        "911682bf97b64f7a8f2bd3ced87149aa": {
          "model_module": "@jupyter-widgets/controls",
          "model_name": "DescriptionStyleModel",
          "state": {
            "_view_name": "StyleView",
            "_model_name": "DescriptionStyleModel",
            "description_width": "",
            "_view_module": "@jupyter-widgets/base",
            "_model_module_version": "1.5.0",
            "_view_count": null,
            "_view_module_version": "1.2.0",
            "_model_module": "@jupyter-widgets/controls"
          }
        },
        "c4bcbafa317e4677af487560332894b2": {
          "model_module": "@jupyter-widgets/base",
          "model_name": "LayoutModel",
          "state": {
            "_view_name": "LayoutView",
            "grid_template_rows": null,
            "right": null,
            "justify_content": null,
            "_view_module": "@jupyter-widgets/base",
            "overflow": null,
            "_model_module_version": "1.2.0",
            "_view_count": null,
            "flex_flow": null,
            "width": null,
            "min_width": null,
            "border": null,
            "align_items": null,
            "bottom": null,
            "_model_module": "@jupyter-widgets/base",
            "top": null,
            "grid_column": null,
            "overflow_y": null,
            "overflow_x": null,
            "grid_auto_flow": null,
            "grid_area": null,
            "grid_template_columns": null,
            "flex": null,
            "_model_name": "LayoutModel",
            "justify_items": null,
            "grid_row": null,
            "max_height": null,
            "align_content": null,
            "visibility": null,
            "align_self": null,
            "height": null,
            "min_height": null,
            "padding": null,
            "grid_auto_rows": null,
            "grid_gap": null,
            "max_width": null,
            "order": null,
            "_view_module_version": "1.2.0",
            "grid_template_areas": null,
            "object_position": null,
            "object_fit": null,
            "grid_auto_columns": null,
            "margin": null,
            "display": null,
            "left": null
          }
        }
      }
    }
  },
  "cells": [
    {
      "cell_type": "markdown",
      "metadata": {
        "id": "Af98-S76j1m6"
      },
      "source": [
        "#Connection to Google Drive"
      ]
    },
    {
      "cell_type": "code",
      "metadata": {
        "colab": {
          "base_uri": "https://localhost:8080/"
        },
        "id": "DDc6fka3U_6u",
        "outputId": "78b83574-4e12-46b4-98e9-d0f16d54982c"
      },
      "source": [
        "from google.colab import drive\r\n",
        "drive.mount('/content/gdrive')"
      ],
      "execution_count": null,
      "outputs": [
        {
          "output_type": "stream",
          "text": [
            "Mounted at /content/gdrive\n"
          ],
          "name": "stdout"
        }
      ]
    },
    {
      "cell_type": "markdown",
      "metadata": {
        "id": "O3gKdwAnkLJy"
      },
      "source": [
        "# Import relevant modules"
      ]
    },
    {
      "cell_type": "code",
      "metadata": {
        "id": "GynkI0C1kG3b"
      },
      "source": [
        "import scipy.io as sio\r\n",
        "import pandas as pd\r\n",
        "\r\n",
        "import torch\r\n",
        "import torch.nn as nn\r\n",
        "import torch.optim as optim\r\n",
        "from torch.optim import lr_scheduler\r\n",
        "\r\n",
        "\r\n",
        "from torchvision import datasets, models, transforms\r\n",
        "\r\n",
        "import numpy as np\r\n",
        "\r\n",
        "from PIL import Image\r\n",
        "from PIL import ImageStat\r\n",
        "\r\n",
        "import matplotlib.pyplot as plt\r\n",
        "\r\n",
        "import time\r\n",
        "import os\r\n",
        "import shutil\r\n",
        "import random\r\n",
        "\r\n",
        "from tqdm.notebook import tqdm\r\n",
        "\r\n",
        "from sklearn.metrics import confusion_matrix\r\n",
        "\r\n",
        "import seaborn as sn"
      ],
      "execution_count": null,
      "outputs": []
    },
    {
      "cell_type": "markdown",
      "metadata": {
        "id": "UUh18ddElLOo"
      },
      "source": [
        "# Check device"
      ]
    },
    {
      "cell_type": "code",
      "metadata": {
        "colab": {
          "base_uri": "https://localhost:8080/"
        },
        "id": "_uYVWUUXlPTi",
        "outputId": "2a930279-077d-4cd5-f938-9163c35c67f4"
      },
      "source": [
        "print(torch.__version__)\r\n",
        "print(torch.cuda.is_available())\r\n",
        "print(torch.cuda.get_device_name(0))\r\n",
        "device = torch.device(\"cuda:0\" if torch.cuda.is_available() else \"cpu\")\r\n",
        "print(device)"
      ],
      "execution_count": null,
      "outputs": [
        {
          "output_type": "stream",
          "text": [
            "1.7.0+cu101\n",
            "True\n",
            "Tesla T4\n",
            "cuda:0\n"
          ],
          "name": "stdout"
        }
      ]
    },
    {
      "cell_type": "markdown",
      "metadata": {
        "id": "_d6drSVSujyw"
      },
      "source": [
        "# Path definition\r\n"
      ]
    },
    {
      "cell_type": "code",
      "metadata": {
        "id": "ZyXi3DKvkZEU"
      },
      "source": [
        "path_drive = '/content/gdrive/MyDrive/Data Mining'\r\n",
        "path_test_kaggle = path_drive + '/Test_Kaggle'\r\n",
        "path_dataset = path_drive + '/Dataset'\r\n",
        "path_dataset_clean = path_dataset + '/Clean'\r\n",
        "path_dataset_adversarial = path_dataset + '/Adversarial'\r\n",
        "path_validation = path_drive + '/Validation'\r\n",
        "path_validation_clean = path_validation + '/Clean'\r\n",
        "path_validation_adversarial = path_validation + '/Adversarial'\r\n",
        "path_train = path_drive + '/Train'\r\n",
        "path_train_clean = path_train + '/Clean'\r\n",
        "path_train_adversarial = path_train + '/Adversarial'\r\n",
        "path_trainval = path_drive + '/TrainVal'\r\n",
        "path_trainval_clean = path_trainval + '/Clean'\r\n",
        "path_trainval_adversarial = path_trainval + '/Adversarial'\r\n",
        "path_test = path_drive + '/Test'\r\n",
        "path_test_clean = path_test + '/Clean'\r\n",
        "path_test_adversarial = path_test + '/Adversarial'\r\n",
        "path_out = path_drive + '/Output'"
      ],
      "execution_count": null,
      "outputs": []
    },
    {
      "cell_type": "markdown",
      "metadata": {
        "id": "tLTBkpQIkUvC"
      },
      "source": [
        "# Check dataset"
      ]
    },
    {
      "cell_type": "code",
      "metadata": {
        "colab": {
          "base_uri": "https://localhost:8080/"
        },
        "id": "Bh04V837ue0N",
        "outputId": "12cb410a-78af-459b-f0fc-cf22d9326ec5"
      },
      "source": [
        "# Clean fingerprints\r\n",
        "wrong_num_img = False\r\n",
        "print('Clean fingerprints:')\r\n",
        "subjects = os.listdir(path_dataset_clean)\r\n",
        "print('\\t' + 'Number of subjects:', len(subjects))\r\n",
        "for subj in subjects:\r\n",
        "  images = os.listdir(os.path.join(path_dataset_clean, subj))\r\n",
        "  if len(images) != 10:\r\n",
        "    wrong_num_img = True\r\n",
        "    print('Error in folder', subj, 'wrong image number.')\r\n",
        "\r\n",
        "if not wrong_num_img:\r\n",
        "    print('\\t' + 'Number of images per subject: 10')\r\n",
        "    print('\\t' + 'Total number of images:', 10*len(subjects))\r\n",
        "else:\r\n",
        "  raise ValueError  \r\n",
        "\r\n",
        "# Adversarial fingerprints\r\n",
        "wrong_num_img = False\r\n",
        "print('Adversarial fingerprints:')\r\n",
        "subjects = os.listdir(path_dataset_adversarial)\r\n",
        "print('\\t' + 'Number of subjects:', len(subjects))\r\n",
        "for subj in subjects:\r\n",
        "  images = os.listdir(os.path.join(path_dataset_adversarial, subj))\r\n",
        "  if len(images) != 10:\r\n",
        "    wrong_num_img = True\r\n",
        "    print('Error in folder', subj, 'wrong image number.')\r\n",
        "\r\n",
        "\r\n",
        "if not wrong_num_img:\r\n",
        "    print('\\t' + 'Number of images per subject: 10')\r\n",
        "    print('\\t' + 'Total number of images:', 10*len(subjects))\r\n",
        "else:\r\n",
        "  raise ValueError  \r\n",
        "\r\n",
        "# Test fingerprints\r\n",
        "wrong_num_img = False\r\n",
        "print('Test fingerprints:')\r\n",
        "images = os.listdir(path_test_kaggle)\r\n",
        "print('\\t' + 'Total number of images:', len(images))\r\n",
        "\r\n",
        "if len(images) != 1200:\r\n",
        "  raise ValueError  "
      ],
      "execution_count": null,
      "outputs": [
        {
          "output_type": "stream",
          "text": [
            "Clean fingerprints:\n",
            "\tNumber of subjects: 190\n",
            "\tNumber of images per subject: 10\n",
            "\tTotal number of images: 1900\n",
            "Adversarial fingerprints:\n",
            "\tNumber of subjects: 182\n",
            "\tNumber of images per subject: 10\n",
            "\tTotal number of images: 1820\n",
            "Test fingerprints:\n",
            "\tTotal number of images: 1200\n"
          ],
          "name": "stdout"
        }
      ]
    },
    {
      "cell_type": "markdown",
      "metadata": {
        "id": "RpdxvW2a7q8i"
      },
      "source": [
        "# Splitting dataset\r\n",
        "\r\n"
      ]
    },
    {
      "cell_type": "code",
      "metadata": {
        "colab": {
          "base_uri": "https://localhost:8080/"
        },
        "id": "Z1OkL-wEHWSC",
        "outputId": "79f66404-bf96-453b-8c23-c851be1ef00b"
      },
      "source": [
        "ratio_validation = 0.3\r\n",
        "ratio_train_val = 0.8\r\n",
        "\r\n",
        "subjects_clean = os.listdir(path_dataset_clean)\r\n",
        "print('Clean subjects: ', len(subjects_clean))\r\n",
        "\r\n",
        "subjects_adv = os.listdir(path_dataset_adversarial)\r\n",
        "print('Adversarial subjects: ', len(subjects_adv))\r\n",
        "\r\n",
        "excluded = [s for s in subjects_clean if s not in subjects_adv]\r\n",
        "\r\n",
        "subjects = subjects_adv.copy()\r\n",
        "\r\n",
        "samples_train_val = np.random.choice(subjects, round(ratio_train_val*len(subjects)), replace=False)\r\n",
        "samples_val = list(np.random.choice(samples_train_val, round(ratio_validation*len(samples_train_val)), replace=False))\r\n",
        "samples_train = [s for s in samples_train_val if s not in samples_val]\r\n",
        "samples_test = [s for s in subjects if s not in samples_train_val]\r\n",
        "\r\n",
        "\r\n",
        "print('Training subjects: ', len(samples_train))\r\n",
        "print('Validation subjects: ', len(samples_val))\r\n",
        "print('Test subjects: ', len(samples_test))\r\n",
        "print('Excluded subjects: ', excluded)\r\n",
        "\r\n",
        "try:\r\n",
        "  os.mkdir(path_validation)\r\n",
        "  os.mkdir(path_validation_clean)\r\n",
        "  os.mkdir(path_validation_adversarial)\r\n",
        "\r\n",
        "  os.mkdir(path_train)\r\n",
        "  os.mkdir(path_train_clean)\r\n",
        "  os.mkdir(path_train_adversarial)\r\n",
        "\r\n",
        "  os.mkdir(path_test)\r\n",
        "  os.mkdir(path_test_clean)\r\n",
        "  os.mkdir(path_test_adversarial)\r\n",
        "\r\n",
        "  # Clean data\r\n",
        "\r\n",
        "  for subject in samples_val: \r\n",
        "    path_folder = path_validation_clean + '/' + subject\r\n",
        "    os.mkdir(path_folder)\r\n",
        "    for elem in os.listdir(path_dataset_clean + '/' + subject):\r\n",
        "      path_img = path_dataset_clean + '/' + subject + '/' + elem\r\n",
        "      shutil.copy(path_img, path_folder)\r\n",
        "\r\n",
        "  for subject in samples_train:\r\n",
        "    path_folder = path_train_clean + '/' + subject\r\n",
        "    os.mkdir(path_folder)\r\n",
        "    for elem in os.listdir(path_dataset_clean + '/' + subject):\r\n",
        "      path_img = path_dataset_clean + '/' + subject + '/' + elem\r\n",
        "      shutil.copy(path_img, path_folder) \r\n",
        "\r\n",
        "  for subject in samples_test:\r\n",
        "    path_folder = path_test_clean + '/' + subject\r\n",
        "    os.mkdir(path_folder)\r\n",
        "    for elem in os.listdir(path_dataset_clean + '/' + subject):\r\n",
        "      path_img = path_dataset_clean + '/' + subject + '/' + elem\r\n",
        "      shutil.copy(path_img, path_folder)\r\n",
        "\r\n",
        "  # Adversarial data\r\n",
        "\r\n",
        "  for subject in samples_val:\r\n",
        "    path_folder = path_validation_adversarial + '/' + subject\r\n",
        "    os.mkdir(path_folder)\r\n",
        "    for elem in os.listdir(path_dataset_adversarial + '/' + subject):\r\n",
        "      path_img = path_dataset_adversarial + '/' + subject + '/' + elem\r\n",
        "      shutil.copy(path_img, path_folder)\r\n",
        "  \r\n",
        "  for subject in samples_train:\r\n",
        "    path_folder = path_train_adversarial + '/' + subject\r\n",
        "    os.mkdir(path_folder)\r\n",
        "    for elem in os.listdir(path_dataset_adversarial + '/' + subject):\r\n",
        "      path_img = path_dataset_adversarial + '/' + subject + '/' + elem\r\n",
        "      shutil.copy(path_img, path_folder) \r\n",
        "\r\n",
        "  for subject in samples_test:\r\n",
        "    path_folder = path_test_adversarial + '/' + subject\r\n",
        "    os.mkdir(path_folder)\r\n",
        "    for elem in os.listdir(path_dataset_adversarial + '/' + subject):\r\n",
        "      path_img = path_dataset_adversarial + '/' + subject + '/' + elem\r\n",
        "      shutil.copy(path_img, path_folder)\r\n",
        "\r\n",
        "  include_train = excluded[0:4]\r\n",
        "  include_val = excluded[4:6]\r\n",
        "  include_test = excluded[6:8]\r\n",
        "\r\n",
        "  for subject in include_train:\r\n",
        "    path_folder = path_train_clean + '/' + subject\r\n",
        "    os.mkdir(path_folder)\r\n",
        "    for elem in os.listdir(path_dataset_clean + '/' + subject):\r\n",
        "      path_img = path_dataset_clean + '/' + subject + '/' + elem\r\n",
        "      shutil.copy(path_img, path_folder) \r\n",
        "\r\n",
        "\r\n",
        "  for subject in include_val:\r\n",
        "    path_folder = path_validation_clean + '/' + subject\r\n",
        "    os.mkdir(path_folder)\r\n",
        "    for elem in os.listdir(path_dataset_clean + '/' + subject):\r\n",
        "      path_img = path_dataset_clean + '/' + subject + '/' + elem\r\n",
        "      shutil.copy(path_img, path_folder)\r\n",
        "\r\n",
        "  for subject in include_test:\r\n",
        "    path_folder = path_test_clean + '/' + subject\r\n",
        "    os.mkdir(path_folder)\r\n",
        "    for elem in os.listdir(path_dataset_clean + '/' + subject):\r\n",
        "      path_img = path_dataset_clean + '/' + subject + '/' + elem\r\n",
        "      shutil.copy(path_img, path_folder)\r\n",
        "    \r\n",
        "  print('Partitions created')\r\n",
        "\r\n",
        "except FileExistsError:\r\n",
        "  print('Direcotry aready exists')"
      ],
      "execution_count": null,
      "outputs": [
        {
          "output_type": "stream",
          "text": [
            "Clean subjects:  190\n",
            "Adversarial subjects:  182\n",
            "Training subjects:  102\n",
            "Validation subjects:  44\n",
            "Test subjects:  36\n",
            "Excluded subjects:  ['subject_139', 'subject_133', 'subject_136', 'subject_148', 'subject_151', 'subject_169', 'subject_166', 'subject_181']\n",
            "Direcotry aready exists\n"
          ],
          "name": "stdout"
        }
      ]
    },
    {
      "cell_type": "code",
      "metadata": {
        "colab": {
          "base_uri": "https://localhost:8080/"
        },
        "id": "0Rgjs2b37ppe",
        "outputId": "dfb08b45-7df7-4f6d-c31b-4b45cdcfbbb9"
      },
      "source": [
        "# Create TrainVal folder\r\n",
        "\r\n",
        "try:\r\n",
        "  os.mkdir(path_trainval)\r\n",
        "  os.mkdir(path_trainval_clean)\r\n",
        "  os.mkdir(path_trainval_adversarial)\r\n",
        "\r\n",
        "  subjects_clean = os.listdir(path_train_clean) + os.listdir(path_validation_clean)\r\n",
        "  print('Clean subjects: ', len(subjects_clean))\r\n",
        "\r\n",
        "  subjects_adv = os.listdir(path_train_adversarial) + os.listdir(path_validation_adversarial)\r\n",
        "  print('Adversarial subjects: ', len(subjects_adv))\r\n",
        "\r\n",
        "  for subject in subjects_clean: \r\n",
        "    path_folder = path_trainval_clean + '/' + subject\r\n",
        "    os.mkdir(path_folder)\r\n",
        "    for elem in os.listdir(path_dataset_clean + '/' + subject):\r\n",
        "      path_img = path_dataset_clean + '/' + subject + '/' + elem\r\n",
        "      shutil.copy(path_img, path_folder)\r\n",
        "  \r\n",
        "  for subject in subjects_adv: \r\n",
        "    path_folder = path_trainval_adversarial + '/' + subject\r\n",
        "    os.mkdir(path_folder)\r\n",
        "    for elem in os.listdir(path_dataset_adversarial + '/' + subject):\r\n",
        "      path_img = path_dataset_adversarial + '/' + subject + '/' + elem\r\n",
        "      shutil.copy(path_img, path_folder)\r\n",
        "\r\n",
        "except FileExistsError:\r\n",
        "  print('Direcotry aready exists')"
      ],
      "execution_count": null,
      "outputs": [
        {
          "output_type": "stream",
          "text": [
            "Clean subjects:  152\n",
            "Adversarial subjects:  146\n"
          ],
          "name": "stdout"
        }
      ]
    },
    {
      "cell_type": "markdown",
      "metadata": {
        "id": "4bTfYBXGcih-"
      },
      "source": [
        "# Functions \r\n"
      ]
    },
    {
      "cell_type": "markdown",
      "metadata": {
        "id": "GKUUrmvidDlc"
      },
      "source": [
        "## Training and Validation function"
      ]
    },
    {
      "cell_type": "code",
      "metadata": {
        "id": "jFn_mcWQcRdk"
      },
      "source": [
        "def train_model(dataloader_train, dataloader_test, start_epoch, num_epochs, model, loss_function, optimizer, scheduler,\r\n",
        "                          best_acc, best_loss, best_epoch, path_out):\r\n",
        " \r\n",
        "  model.cuda()\r\n",
        "\r\n",
        "  # For each epoch\r\n",
        "  for epochs in tqdm(range(start_epoch, num_epochs + 1), desc='Loop epochs'):\r\n",
        "    since = time.time()\r\n",
        "    \r\n",
        "    model_loss_train = 0.0\r\n",
        "    model_acc_train = 0.0\r\n",
        "    total_size_train = 0\r\n",
        "    \r\n",
        "    model.train() \r\n",
        "\r\n",
        "    # For each batch\r\n",
        "    for inputs, labels in dataloader_train:\r\n",
        "      inputs = inputs.type(torch.FloatTensor).cuda()   \r\n",
        "      labels = labels.cuda()\r\n",
        "      \r\n",
        "      optimizer.zero_grad()\r\n",
        "      model.zero_grad()\r\n",
        "\r\n",
        "      y = model(inputs)\r\n",
        "\r\n",
        "      loss = loss_function(y, labels)\r\n",
        "\r\n",
        "      pred = torch.log_softmax(y, dim=1)  \r\n",
        "      _, preds = torch.max(pred, dim = 1)\r\n",
        "    \r\n",
        "      model_loss_train += loss.item() * inputs.size(0)\r\n",
        "      total_size_train += inputs.size(0)\r\n",
        "      model_acc_train += torch.sum(preds == labels).item()\r\n",
        "\r\n",
        "      loss.backward()  \r\n",
        "      optimizer.step()\r\n",
        "    \r\n",
        "    if scheduler:\r\n",
        "      scheduler.step()\r\n",
        "    else:\r\n",
        "      if (epochs - best_epoch)%20 == 0 and dataloader_test != False:\r\n",
        "        optimizer.param_groups[0]['lr'] = optimizer.param_groups[0]['lr']*0.1\r\n",
        "        print('Adjusting learning rate to', optimizer.param_groups[0]['lr'])\r\n",
        "\r\n",
        "    model_loss_epoch_train = model_loss_train/total_size_train\r\n",
        "    model_acc_epoch_train  = model_acc_train/total_size_train\r\n",
        "    \r\n",
        "    torch.save(model.state_dict(), os.path.join(path_out, 'train_weights.pth'))\r\n",
        "\r\n",
        "    if dataloader_test != False: \r\n",
        "      model.eval()\r\n",
        "\r\n",
        "      total_size_val = 0\r\n",
        "      model_loss_val = 0.0\r\n",
        "      model_acc_val = 0.0\r\n",
        "\r\n",
        "      for inputs, labels in dataloader_test:\r\n",
        "        inputs = inputs.type(torch.FloatTensor).cuda()    \r\n",
        "        labels = labels.cuda()\r\n",
        "            \r\n",
        "        y = model(inputs)\r\n",
        "\r\n",
        "        loss = loss_function(y, labels)\r\n",
        "        \r\n",
        "        pred = torch.log_softmax(y, dim=1)  \r\n",
        "        _, preds = torch.max(pred, dim = 1)\r\n",
        "\r\n",
        "        model_loss_val += loss.item() * inputs.size(0)\r\n",
        "        total_size_val += inputs.size(0)\r\n",
        "        model_acc_val += torch.sum(preds == labels).item()\r\n",
        "          \r\n",
        "            \r\n",
        "      model_loss_epoch_val = model_loss_val/total_size_val\r\n",
        "      model_acc_epoch_val = model_acc_val/total_size_val\r\n",
        "\r\n",
        "    elapsed = time.time() - since\r\n",
        "\r\n",
        "    if dataloader_test != False:\r\n",
        "      print('[Epoch %d][TRAIN on %d [Loss: %.4f  ACC: %.4f]][VAL on %d [Loss: %.4f  ACC: %.4f]][TIME: %.0f m %.0f s]' \r\n",
        "            %(epochs, total_size_train, model_loss_epoch_train, model_acc_epoch_train, total_size_val, model_loss_epoch_val, \r\n",
        "              model_acc_epoch_val, elapsed // 60, elapsed % 60))\r\n",
        "      \r\n",
        "      \r\n",
        "      if (model_acc_epoch_val > best_acc) or (model_acc_epoch_val == best_acc and model_loss_epoch_val < best_loss):\r\n",
        "        print('\\t.... Saving best weights ....')\r\n",
        "        best_acc = model_acc_epoch_val\r\n",
        "        best_loss = model_loss_epoch_val\r\n",
        "        best_epoch = epochs\r\n",
        "        \r\n",
        "        torch.save(model.state_dict(), os.path.join(path_out, 'best_model_weights.pth'))\r\n",
        "\r\n",
        "      with open(os.path.join(path_out, 'lossVal.txt'), 'a') as f:\r\n",
        "        f.write(str(model_loss_epoch_val) + '\\n')\r\n",
        "        \r\n",
        "      with open(os.path.join(path_out, 'accVal.txt'), 'a') as f:\r\n",
        "        f.write(str(model_acc_epoch_val) + '\\n')\r\n",
        "        \r\n",
        "    else:\r\n",
        "      print('[Epoch %d][TRAIN on %d [Loss: %.4f  ACC: %.4f]][TIME: %.0f m %.0f s]' \r\n",
        "            %(epochs, total_size_train, model_loss_epoch_train, model_acc_epoch_train, elapsed // 60, elapsed % 60))\r\n",
        "       \r\n",
        "    with open(os.path.join(path_out, 'lossTrain.txt'), 'a') as f:\r\n",
        "      f.write(str(model_loss_epoch_train) + '\\n')\r\n",
        "        \r\n",
        "    with open(os.path.join(path_out, 'accTrain.txt'), 'a') as f:\r\n",
        "      f.write(str(model_acc_epoch_train) + '\\n')\r\n",
        "      \r\n",
        "    dict_checkpoint = {'best_acc': best_acc, \r\n",
        "                      'best_loss': best_loss,\r\n",
        "                      'best_epoch': best_epoch,\r\n",
        "                      'last_epoch': epochs} \r\n",
        "\r\n",
        "    df_checkpoint = pd.DataFrame(data=dict_checkpoint, index=[0])\r\n",
        "    df_checkpoint.to_csv(os.path.join(path_out, 'check_point.csv'))\r\n",
        "\r\n",
        "    if epochs%10 == 0 or epochs == (num_epochs + 1):\r\n",
        "      print_graphs()\r\n",
        "  print_graphs()"
      ],
      "execution_count": null,
      "outputs": []
    },
    {
      "cell_type": "markdown",
      "metadata": {
        "id": "Ce1pOXKbdKdH"
      },
      "source": [
        "## Print graph function"
      ]
    },
    {
      "cell_type": "code",
      "metadata": {
        "id": "AgSCQ-mBADks"
      },
      "source": [
        "def print_graphs():\r\n",
        "  loss_model_train = []\r\n",
        "  loss_model_val = []\r\n",
        "  acc_model_train = []\r\n",
        "  acc_model_val = []\r\n",
        "\r\n",
        "  with open(os.path.join(path_out, 'lossTrain.txt'), 'r') as f:\r\n",
        "    lines = f.readlines()\r\n",
        "    for line in lines:\r\n",
        "      loss_model_train.append(float(line))\r\n",
        "\r\n",
        "  with open(os.path.join(path_out, 'accTrain.txt'), 'r') as f:\r\n",
        "    lines = f.readlines()\r\n",
        "    for line in lines:\r\n",
        "      acc_model_train.append(float(line))\r\n",
        "\r\n",
        "\r\n",
        "  if os.path.isfile(os.path.join(path_out, 'accVal.txt')):\r\n",
        "    with open(os.path.join(path_out, 'lossVal.txt'), 'r') as f:\r\n",
        "      lines = f.readlines()\r\n",
        "      for line in lines:\r\n",
        "        loss_model_val.append(float(line))\r\n",
        "\r\n",
        "    with open(os.path.join(path_out, 'accVal.txt'), 'r') as f:\r\n",
        "      lines = f.readlines()\r\n",
        "      for line in lines:\r\n",
        "        acc_model_val.append(float(line))\r\n",
        "\r\n",
        "    figure = plt.figure()\r\n",
        "    plt.title('Model: Training Vs Validation Losses')\r\n",
        "    plt.xlabel('Epoch')\r\n",
        "    plt.ylabel('Loss')\r\n",
        "    plt.plot(list(range(1,len(loss_model_train)+1)), loss_model_train, color='r', label='Training Loss')\r\n",
        "    plt.plot(list(range(1, len(loss_model_val)+1)), loss_model_val, color='g', label='Validation Loss')\r\n",
        "    plt.legend()\r\n",
        "    plt.grid()\r\n",
        "    plt.xticks(np.arange(1, len(loss_model_train)+1, round((len(loss_model_train)+1)/10)))\r\n",
        "    plt.savefig(os.path.join(path_out, 'LossTrainVal.png'))\r\n",
        "    plt.close(fig=figure)\r\n",
        "    # plt.show()\r\n",
        "\r\n",
        "    figure = plt.figure()\r\n",
        "    plt.title('Training Vs Validation Accuracies')\r\n",
        "    plt.xlabel('Epoch')\r\n",
        "    plt.ylabel('Accuracy')\r\n",
        "    plt.plot(list(range(1, len(acc_model_train)+1)), acc_model_train, color='r', label='Training Accuracy')\r\n",
        "    plt.plot(list(range(1, len(acc_model_val)+1)), acc_model_val, color='g', label='Validation Accuracy')\r\n",
        "    plt.legend()\r\n",
        "    plt.grid()\r\n",
        "    plt.xticks(np.arange(1, len(acc_model_train)+1, round((len(acc_model_train)+1)/10)))\r\n",
        "    plt.savefig(os.path.join(path_out, 'AccTrainVal.png'))\r\n",
        "    plt.close(fig=figure)\r\n",
        "    # plt.show()\r\n",
        "  else:\r\n",
        "    figure = plt.figure()\r\n",
        "    plt.title('Model: Training Loss')\r\n",
        "    plt.xlabel('Epoch')\r\n",
        "    plt.ylabel('Loss')\r\n",
        "    plt.plot(list(range(1,len(loss_model_train)+1)), loss_model_train, color='r', label='Training Loss')\r\n",
        "    plt.legend()\r\n",
        "    plt.grid()\r\n",
        "    plt.xticks(np.arange(1, len(loss_model_train)+1, round((len(loss_model_train)+1)/10)))\r\n",
        "    plt.savefig(os.path.join(path_out, 'LossTrain.png'))\r\n",
        "    plt.close(fig=figure)\r\n",
        "    # plt.show()\r\n",
        "\r\n",
        "    figure = plt.figure()\r\n",
        "    plt.title('Training Accuracy')\r\n",
        "    plt.xlabel('Epoch')\r\n",
        "    plt.ylabel('Accuracy')\r\n",
        "    plt.plot(list(range(1, len(acc_model_train)+1)), acc_model_train, color='r', label='Training Accuracy')\r\n",
        "    plt.legend()\r\n",
        "    plt.grid()\r\n",
        "    plt.xticks(np.arange(1, len(acc_model_train)+1, round((len(acc_model_train)+1)/10)))\r\n",
        "    plt.savefig(os.path.join(path_out, 'AccTrain.png'))\r\n",
        "    plt.close(fig=figure)\r\n",
        "    # plt.show()"
      ],
      "execution_count": null,
      "outputs": []
    },
    {
      "cell_type": "markdown",
      "metadata": {
        "id": "1j1caljz2r2G"
      },
      "source": [
        "# Data analysis\r\n"
      ]
    },
    {
      "cell_type": "code",
      "metadata": {
        "colab": {
          "base_uri": "https://localhost:8080/"
        },
        "id": "NgYXBe2M217p",
        "outputId": "6f3c4f18-4e78-42fe-fdcb-85d9c11c4f3a"
      },
      "source": [
        "# Check size\r\n",
        "\r\n",
        "diff_size = False\r\n",
        "\r\n",
        "subjects = os.listdir(path_dataset_clean)\r\n",
        "for subj in subjects:\r\n",
        "  for image in os.listdir(os.path.join(path_dataset_clean, subj)):\r\n",
        "    img = Image.open(os.path.join(path_dataset_clean, subj, image))\r\n",
        "    if img.size != (252,324):\r\n",
        "      diff_size = True\r\n",
        "      print(img.size)\r\n",
        "\r\n",
        "\r\n",
        "subjects = os.listdir(path_dataset_adversarial)\r\n",
        "for subj in subjects:\r\n",
        "  for image in os.listdir(os.path.join(path_dataset_adversarial, subj)):\r\n",
        "    img = Image.open(os.path.join(path_dataset_adversarial, subj, image))\r\n",
        "    if img.size != (252,324):\r\n",
        "      diff_size = True\r\n",
        "      print(img.size)\r\n",
        "\r\n",
        "if not diff_size:\r\n",
        "  print('Image size:', img.size)"
      ],
      "execution_count": null,
      "outputs": [
        {
          "output_type": "stream",
          "text": [
            "Image size: (252, 324)\n"
          ],
          "name": "stdout"
        }
      ]
    },
    {
      "cell_type": "code",
      "metadata": {
        "colab": {
          "base_uri": "https://localhost:8080/",
          "height": 592
        },
        "id": "0w2SlxYZ-O0-",
        "outputId": "923d92d2-1b20-47df-93e7-c7e6ce014c72"
      },
      "source": [
        "# Data distribution among dataset partitions\r\n",
        "\r\n",
        "subjects_clean = len(os.listdir(path_dataset_clean))\r\n",
        "subjects_adversarial = len(os.listdir(path_dataset_adversarial))\r\n",
        "\r\n",
        "subjects_train_clean = len(os.listdir(path_train_clean))\r\n",
        "subject_train_adversarial = len(os.listdir(path_train_adversarial))\r\n",
        "subjects_val_clean = len(os.listdir(path_validation_clean))\r\n",
        "subjects_val_adversarial = len(os.listdir(path_validation_adversarial))\r\n",
        "subjects_test_clean = len(os.listdir(path_test_clean))\r\n",
        "subjects_test_adversarial = len(os.listdir(path_test_adversarial))\r\n",
        "\r\n",
        "fig = plt.figure(figsize=(15,10))\r\n",
        "plt.yticks(ticks=np.arange(1,120,4))\r\n",
        "labels = ['subjects_train_clean','subject_train_adversarial', 'subjects_val_clean', 'subjects_val_adversarial', 'subjects_test_clean', 'subjects_test_adversarial']\r\n",
        "data = [subjects_train_clean, subject_train_adversarial, subjects_val_clean, subjects_val_adversarial, subjects_test_clean, subjects_test_adversarial]\r\n",
        "plt.bar(x=labels, height=data)\r\n",
        "plt.savefig(os.path.join(path_drive, 'Distribuzione dati.png'))\r\n",
        "plt.show()"
      ],
      "execution_count": null,
      "outputs": [
        {
          "output_type": "display_data",
          "data": {
            "image/png": "[encoded data removed]",
            "text/plain": [
              "<Figure size 1080x720 with 1 Axes>"
            ]
          },
          "metadata": {
            "tags": [],
            "needs_background": "light"
          }
        }
      ]
    },
    {
      "cell_type": "code",
      "metadata": {
        "colab": {
          "base_uri": "https://localhost:8080/",
          "height": 269
        },
        "id": "OeHjwVCPGubT",
        "outputId": "7aa504e4-0f7a-4bac-e93a-7270b846de15"
      },
      "source": [
        "img = Image.open('/content/gdrive/MyDrive/Data Mining/Train/Adversarial/subject_100/fingerprint_1.png')\r\n",
        "\r\n",
        "plt.imshow(img)\r\n",
        "plt.show()"
      ],
      "execution_count": null,
      "outputs": [
        {
          "output_type": "display_data",
          "data": {
            "image/png": "[encoded data removed]",
            "text/plain": [
              "<Figure size 432x288 with 1 Axes>"
            ]
          },
          "metadata": {
            "tags": [],
            "needs_background": "light"
          }
        }
      ]
    },
    {
      "cell_type": "markdown",
      "metadata": {
        "id": "ckWkNMf3OX67"
      },
      "source": [
        "# Model definition\r\n"
      ]
    },
    {
      "cell_type": "code",
      "metadata": {
        "id": "mPpfi4i4OXhH"
      },
      "source": [
        "torch.manual_seed(0)\r\n",
        "np.random.seed(0)\r\n",
        "torch.backends.cudnn.deterministic = True\r\n",
        "torch.backends.cudnn.benchmark = False"
      ],
      "execution_count": null,
      "outputs": []
    },
    {
      "cell_type": "markdown",
      "metadata": {
        "id": "ZJvcOscIFxSJ"
      },
      "source": [
        "## VGG19\r\n"
      ]
    },
    {
      "cell_type": "code",
      "metadata": {
        "id": "ICChrurvRl-y"
      },
      "source": [
        "# VGG19\r\n",
        "\r\n",
        "data_transforms = {\r\n",
        "    'Train': transforms.Compose([transforms.Resize((224,224)),\r\n",
        "                                 transforms.RandomHorizontalFlip(0.5),\r\n",
        "                                 transforms.RandomVerticalFlip(0.5),\r\n",
        "                                 transforms.RandomRotation((0,360),fill=(255,255,255)),\r\n",
        "                                 transforms.ToTensor(),\r\n",
        "                                 transforms.Normalize([0.485, 0.456, 0.406], [0.229, 0.224, 0.225])\r\n",
        "                                 ]),\r\n",
        "    'Validation': transforms.Compose([transforms.Resize((224,224)),\r\n",
        "                                      transforms.ToTensor(),\r\n",
        "                                      transforms.Normalize([0.485, 0.456, 0.406], [0.229, 0.224, 0.225])\r\n",
        "                                      ])\r\n",
        "                   }\r\n",
        "\r\n",
        "\r\n",
        "img_datasets = {x : datasets.ImageFolder(os.path.join(path_drive, x), data_transforms[x]) for x in ['Train', 'Validation']}\r\n",
        "dataloaders = {x : torch.utils.data.DataLoader(img_datasets[x], batch_size=parameters['batch_size'], shuffle=True, num_workers=4) for x in ['Train', 'Validation']}\r\n",
        "\r\n",
        "size_training = len(img_datasets['Train'])\r\n",
        "size_validation = len(img_datasets['Validation'])\r\n",
        "\r\n",
        "print('Number of fingerprints in training set:', size_training)\r\n",
        "print('Number of fingerprints in validation set:', size_validation)\r\n",
        "\r\n",
        "vgg19 = models.vgg19(pretrained=True)\r\n",
        "vgg19.classifier[6] = nn.Linear(4096, 2)\r\n",
        "\r\n",
        "for elem in vgg19.parameters():\r\n",
        "  elem.requires_grad = False\r\n",
        "\r\n",
        "for elem in vgg19.classifier.parameters():\r\n",
        "  elem.requires_grad = True\r\n",
        "\r\n",
        "loss_function = nn.CrossEntropyLoss()\r\n",
        "optimizer = optim.Adam(vgg19.classifier.parameters(), lr=parameters['learning_rate'])\r\n",
        "model = vgg19"
      ],
      "execution_count": null,
      "outputs": []
    },
    {
      "cell_type": "markdown",
      "metadata": {
        "id": "298roOmrF0Io"
      },
      "source": [
        "## VGG19_bn\r\n"
      ]
    },
    {
      "cell_type": "code",
      "metadata": {
        "colab": {
          "base_uri": "https://localhost:8080/",
          "height": 124,
          "referenced_widgets": [
            "bc627f61fae54f709c7551b99e9bbfef"
          ]
        },
        "id": "2oP0LhYLy41M",
        "outputId": "a6fc0b41-daa9-40b9-99e8-86aded878045"
      },
      "source": [
        "# VGG19_bn\r\n",
        "\r\n",
        "parameters = {'learning_rate' : 0.00003,\r\n",
        "              'batch_size' : 32,\r\n",
        "              'num_epochs' : 500}\r\n",
        "\r\n",
        "\r\n",
        "data_transforms = {\r\n",
        "    'Train': transforms.Compose([transforms.RandomHorizontalFlip(0.5),\r\n",
        "                                # transforms.RandomVerticalFlip(0.5),\r\n",
        "                                #  transforms.RandomAffine(degrees=15, translate=(0.05,0.05), scale=(0.8,1), \r\n",
        "                                #                          fillcolor=(round(0.9804*255),round(0.9804*255),round(0.9804*255))),\r\n",
        "                                #  transforms.ColorJitter(brightness=(1,5), contrast=20, saturation=100),\r\n",
        "                                #  transforms.GaussianBlur(1,(1,2)),\r\n",
        "                                 transforms.Resize((224,224)),\r\n",
        "                                 transforms.ToTensor(),\r\n",
        "                                 transforms.Normalize([0.485, 0.456, 0.406], [0.229, 0.224, 0.225])\r\n",
        "                                 ]),\r\n",
        "    'Validation': transforms.Compose([transforms.Resize((224,224)),\r\n",
        "                                      transforms.ToTensor(),\r\n",
        "                                      transforms.Normalize([0.485, 0.456, 0.406], [0.229, 0.224, 0.225])\r\n",
        "                                      ])\r\n",
        "                   }\r\n",
        "\r\n",
        "img_datasets = {x : datasets.ImageFolder(os.path.join(path_drive, x), data_transforms[x]) for x in ['Train', 'Validation']}\r\n",
        "dataloaders = {x : torch.utils.data.DataLoader(img_datasets[x], batch_size=parameters['batch_size'], shuffle=True, num_workers=4) for x in ['Train', 'Validation']}\r\n",
        "\r\n",
        "size_training = len(img_datasets['Train'])\r\n",
        "size_validation = len(img_datasets['Validation'])\r\n",
        "\r\n",
        "print('Number of fingerprints in training set:', size_training)\r\n",
        "print('Number of fingerprints in validation set:', size_validation)\r\n",
        "\r\n",
        "vgg19_bn = models.vgg19_bn(pretrained=True)\r\n",
        "# vgg19_bn.classifier[6] = nn.Linear(4096, 1) \r\n",
        "# vgg19_bn.classifier[6] = nn.Sigmoid()\r\n",
        "\r\n",
        "class_layers = list(vgg19_bn.classifier.children())[:-1]  # Remove last layer\r\n",
        "class_layers.extend([nn.Linear(4096, 2)])                 # Add layers\r\n",
        "vgg19_bn.classifier = nn.Sequential(*class_layers)        # Replace the model classifier\r\n",
        "\r\n",
        "for elem in vgg19_bn.parameters():\r\n",
        "  elem.requires_grad = True\r\n",
        "\r\n",
        "# for elem in vgg19_bn.classifier.parameters():\r\n",
        "#   elem.requires_grad = True\r\n",
        "\r\n",
        "loss_function = nn.CrossEntropyLoss()\r\n",
        "optimizer = optim.Adam(vgg19_bn.parameters(), lr=parameters['learning_rate']) # <--------------------------------------------- CAMBIARE SE NON FINE TUNING!!!\r\n",
        "# scheduler = lr_scheduler.StepLR(optimizer, step_size=10, gamma=0.1, verbose=True)\r\n",
        "model = vgg19_bn"
      ],
      "execution_count": null,
      "outputs": [
        {
          "output_type": "stream",
          "text": [
            "Number of fingerprints in training set: 2080\n",
            "Number of fingerprints in validation set: 900\n"
          ],
          "name": "stdout"
        },
        {
          "output_type": "stream",
          "text": [
            "Downloading: \"https://download.pytorch.org/models/vgg19_bn-c79401a0.pth\" to /root/.cache/torch/hub/checkpoints/vgg19_bn-c79401a0.pth\n"
          ],
          "name": "stderr"
        },
        {
          "output_type": "display_data",
          "data": {
            "application/vnd.jupyter.widget-view+json": {
              "model_id": "bc627f61fae54f709c7551b99e9bbfef",
              "version_major": 2,
              "version_minor": 0
            },
            "text/plain": [
              "HBox(children=(FloatProgress(value=0.0, max=574769405.0), HTML(value='')))"
            ]
          },
          "metadata": {
            "tags": []
          }
        },
        {
          "output_type": "stream",
          "text": [
            "\n"
          ],
          "name": "stdout"
        }
      ]
    },
    {
      "cell_type": "markdown",
      "metadata": {
        "id": "6d5v2m_1Ft3N"
      },
      "source": [
        "## AlexNet\r\n"
      ]
    },
    {
      "cell_type": "code",
      "metadata": {
        "colab": {
          "base_uri": "https://localhost:8080/",
          "height": 119,
          "referenced_widgets": [
            "e162ff94eeab4fdb89bcacd4a18fdcdd",
            "392bc0f0764b41d0aab76d2c01b64bb1",
            "85f2f699aa5b4d80bb6b837f595ce1e0",
            "0a402e5fea894d2388ef1d44f014af05",
            "1b280b3794894c4dabb1348e247df368",
            "530d8b93b9cc481984c2e35d3008c87c",
            "bb013603c0084b8388674f8bef657b1c",
            "d2e5d05e1b914c63a89fe81ee2b8981b"
          ]
        },
        "id": "4KlNyT2S0FvO",
        "outputId": "edb278c6-ec2b-4643-8fbe-55e674a6e06f"
      },
      "source": [
        "# AlexNet\r\n",
        "\r\n",
        "parameters = {'learning_rate' : 0.0001,\r\n",
        "              'lr_step_size' : 0,\r\n",
        "              'lr_decay' : 0,\r\n",
        "              'weight_decay' : 0.03,\r\n",
        "              'batch_size' : 32,\r\n",
        "              'num_epochs' : 500}\r\n",
        "\r\n",
        "\r\n",
        "data_transforms = {\r\n",
        "    'Train': transforms.Compose([transforms.Resize((224,224)),\r\n",
        "                                 transforms.RandomHorizontalFlip(0.5),\r\n",
        "                                  transforms.ToTensor(),\r\n",
        "                                  transforms.Normalize([0.485, 0.456, 0.406], [0.229, 0.224, 0.225]),\r\n",
        "                                  ]),\r\n",
        "    'Validation': transforms.Compose([transforms.Resize((224,224)),\r\n",
        "                                      transforms.ToTensor(),\r\n",
        "                                      transforms.Normalize([0.485, 0.456, 0.406], [0.229, 0.224, 0.225])\r\n",
        "                                      ])\r\n",
        "                   }\r\n",
        "\r\n",
        "\r\n",
        "img_datasets = {x : datasets.ImageFolder(os.path.join(path_drive, x), data_transforms[x]) for x in ['Train', 'Validation']}\r\n",
        "dataloaders = {x : torch.utils.data.DataLoader(img_datasets[x], batch_size=parameters['batch_size'], shuffle=True, num_workers=4) for x in ['Train', 'Validation']}\r\n",
        "\r\n",
        "size_training = len(img_datasets['Train'])\r\n",
        "size_validation = len(img_datasets['Validation'])\r\n",
        "\r\n",
        "print('Number of fingerprints in training set:', size_training)\r\n",
        "print('Number of fingerprints in validation set:', size_validation)\r\n",
        "\r\n",
        "alexnet = models.alexnet(pretrained=True)\r\n",
        "\r\n",
        "class_layers = list(alexnet.classifier.children())[:-1]\r\n",
        "class_layers.extend([nn.Linear(4096, 2)])       \r\n",
        "alexnet.classifier = nn.Sequential(*class_layers)     \r\n",
        "\r\n",
        "for elem in alexnet.parameters():\r\n",
        "  elem.requires_grad = True\r\n",
        "\r\n",
        "# for elem in alexnet.classifier.parameters():\r\n",
        "#   elem.requires_grad = True\r\n",
        "\r\n",
        "loss_function = nn.CrossEntropyLoss()\r\n",
        "optimizer = optim.Adam(alexnet.parameters(), lr=parameters['learning_rate'], weight_decay=parameters['weight_decay']) # <--------------------------------------------- \r\n",
        "# scheduler = optim.lr_scheduler.StepLR(optimizer, parameters['lr_step_size'], gamma=parameters['lr_decay'], last_epoch=-1, verbose=False) # <--- PROVARE\r\n",
        "scheduler = False\r\n",
        "\r\n",
        "model = alexnet"
      ],
      "execution_count": null,
      "outputs": [
        {
          "output_type": "stream",
          "text": [
            "Number of fingerprints in training set: 2080\n",
            "Number of fingerprints in validation set: 900\n"
          ],
          "name": "stdout"
        },
        {
          "output_type": "stream",
          "text": [
            "Downloading: \"https://download.pytorch.org/models/alexnet-owt-4df8aa71.pth\" to /root/.cache/torch/hub/checkpoints/alexnet-owt-4df8aa71.pth\n"
          ],
          "name": "stderr"
        },
        {
          "output_type": "display_data",
          "data": {
            "application/vnd.jupyter.widget-view+json": {
              "model_id": "e162ff94eeab4fdb89bcacd4a18fdcdd",
              "version_minor": 0,
              "version_major": 2
            },
            "text/plain": [
              "HBox(children=(FloatProgress(value=0.0, max=244418560.0), HTML(value='')))"
            ]
          },
          "metadata": {
            "tags": []
          }
        },
        {
          "output_type": "stream",
          "text": [
            "\n"
          ],
          "name": "stdout"
        }
      ]
    },
    {
      "cell_type": "markdown",
      "metadata": {
        "id": "wEwkGUGoUNCx"
      },
      "source": [
        "## ResNet50\r\n"
      ]
    },
    {
      "cell_type": "code",
      "metadata": {
        "colab": {
          "base_uri": "https://localhost:8080/"
        },
        "id": "dHs7JUH_ULjH",
        "outputId": "ff3e3bbf-42c7-4294-96e7-9e79814cb4dc"
      },
      "source": [
        "# ResNet50\r\n",
        "\r\n",
        "parameters = {'learning_rate' : 0.00005,\r\n",
        "              'batch_size' : 32,\r\n",
        "              'num_epochs' : 500}\r\n",
        "\r\n",
        "\r\n",
        "data_transforms = {\r\n",
        "    'Train': transforms.Compose([transforms.RandomHorizontalFlip(0.5),\r\n",
        "                                  # transforms.RandomVerticalFlip(0.5),\r\n",
        "                                  transforms.RandomAffine(degrees=10, translate=(0.01,0.01)), # <----------- Valutare aggiunta del riscalamento\r\n",
        "                                  # transforms.FiveCrop(size=(224,224)),\r\n",
        "                                  # transforms.Lambda(lambda crops: [crop for crop in crops][np.random.randint(0,5)]),\r\n",
        "                                  # transforms.ColorJitter(contrast=10),\r\n",
        "                                  # transforms.GaussianBlur(5,1),\r\n",
        "                                  transforms.Resize((224,224)),\r\n",
        "                                  transforms.ToTensor(),\r\n",
        "                                  transforms.Normalize([0.485, 0.456, 0.406], [0.229, 0.224, 0.225]),\r\n",
        "                                  ]),\r\n",
        "    'Validation': transforms.Compose([transforms.Resize((224,224)),\r\n",
        "                                      transforms.ToTensor(),\r\n",
        "                                      transforms.Normalize([0.485, 0.456, 0.406], [0.229, 0.224, 0.225])\r\n",
        "                                      ])\r\n",
        "                   }\r\n",
        "\r\n",
        "\r\n",
        "img_datasets = {x : datasets.ImageFolder(os.path.join(path_drive, x), data_transforms[x]) for x in ['Train', 'Validation']}\r\n",
        "dataloaders = {x : torch.utils.data.DataLoader(img_datasets[x], batch_size=parameters['batch_size'], shuffle=True, num_workers=4) for x in ['Train', 'Validation']}\r\n",
        "\r\n",
        "size_training = len(img_datasets['Train'])\r\n",
        "size_validation = len(img_datasets['Validation'])\r\n",
        "\r\n",
        "print('Number of fingerprints in training set:', size_training)\r\n",
        "print('Number of fingerprints in validation set:', size_validation)\r\n",
        "\r\n",
        "resnet50 = models.resnet50(pretrained=True)\r\n",
        "\r\n",
        "class_layers = list(resnet50.fc.children())[:-1]\r\n",
        "class_layers.extend([nn.Linear(2048, 2)])       \r\n",
        "resnet50.fc = nn.Sequential(*class_layers)     \r\n",
        "\r\n",
        "for elem in resnet50.parameters():\r\n",
        "  elem.requires_grad = True\r\n",
        "\r\n",
        "# for elem in resnet50.fc.parameters():\r\n",
        "#   elem.requires_grad = True\r\n",
        "\r\n",
        "loss_function = nn.CrossEntropyLoss()\r\n",
        "optimizer = optim.Adam(resnet50.parameters(), lr=parameters['learning_rate']) # <--------------------------------------------- \r\n",
        "model = resnet50"
      ],
      "execution_count": null,
      "outputs": [
        {
          "output_type": "stream",
          "text": [
            "Number of fingerprints in training set: 2080\n",
            "Number of fingerprints in validation set: 900\n"
          ],
          "name": "stdout"
        }
      ]
    },
    {
      "cell_type": "markdown",
      "metadata": {
        "id": "wTO0pLGWeVk5"
      },
      "source": [
        "## Model training"
      ]
    },
    {
      "cell_type": "code",
      "metadata": {
        "colab": {
          "base_uri": "https://localhost:8080/"
        },
        "id": "wxC5Y6ZRRRYb",
        "outputId": "5863e9aa-5fd5-4795-adde-9c874301b698"
      },
      "source": [
        "# Save settings\r\n",
        "\r\n",
        "try:\r\n",
        "  os.mkdir(path_out)\r\n",
        "  print('Output folder created at:', path_out)\r\n",
        "\r\n",
        "  col = ['model', 'pretrained', 'fine_tuning', 'optimizer', 'scheduler', 'scheduler_par', 'loss_function', 'learning_rate', 'weight_decay', 'batch_size', 'num_epochs', 'data_augmentation']\r\n",
        "  data = [['AlexNet', True, False, 'Adam(model, lr)', scheduler, {'lr_step_size' : parameters['lr_step_size'], 'lr_decay' : parameters['lr_decay']}, 'CrossEntropyLoss()', parameters['learning_rate'], parameters['weight_decay'], parameters['batch_size'], parameters['num_epochs'], data_transforms]]\r\n",
        "  df_settings = pd.DataFrame(columns=col, data=data)\r\n",
        "\r\n",
        "  df_settings.to_csv(os.path.join(path_out, 'settings.csv'))\r\n",
        "  \r\n",
        "except FileExistsError:\r\n",
        "  print('Output directory already exists')"
      ],
      "execution_count": null,
      "outputs": [
        {
          "output_type": "stream",
          "text": [
            "Output folder created at: /content/gdrive/MyDrive/Data Mining/Output\n"
          ],
          "name": "stdout"
        }
      ]
    },
    {
      "cell_type": "code",
      "metadata": {
        "id": "SF71WezSXqcY"
      },
      "source": [
        "# Train model\r\n",
        "\r\n",
        "previous_model = os.path.join(path_out, 'train_weights.pth')\r\n",
        "if os.path.isfile(previous_model):\r\n",
        "  print('Previous model weights found, would you like to load them? (y/n)')\r\n",
        "  resp = input()\r\n",
        "  if resp == 'y' or resp == 'Y':\r\n",
        "    print('Loading weights...')\r\n",
        "    model.load_state_dict(torch.load(previous_model)) \r\n",
        "else:\r\n",
        "  print('No previous model weights found')\r\n",
        "  \r\n",
        "previous_checkpoint = os.path.join(path_out, 'check_point.csv')\r\n",
        "if os.path.isfile(previous_checkpoint):\r\n",
        "  print('Previous checkpoint found, would you like to load it? (y/n)')\r\n",
        "  resp = input()\r\n",
        "  if resp == 'y' or resp == 'Y':\r\n",
        "    print('Loading parameters...')\r\n",
        "    df_checkpoint = pd.read_csv(previous_checkpoint)\r\n",
        "    best_acc = df_checkpoint['best_acc'][0]\r\n",
        "    best_loss = df_checkpoint['best_loss'][0]\r\n",
        "    best_epoch = df_checkpoint['best_epoch'][0]\r\n",
        "    start_epoch = df_checkpoint['last_epoch'][0] + 1\r\n",
        "  else:\r\n",
        "    start_epoch = 1\r\n",
        "    best_acc = 0\r\n",
        "    best_loss= 0\r\n",
        "    best_epoch = 0\r\n",
        "\r\n",
        "else:\r\n",
        "  start_epoch = 1\r\n",
        "  best_acc = 0\r\n",
        "  best_loss= 0\r\n",
        "  best_epoch = 0\r\n",
        "  print('No previous checkpoint found')\r\n",
        "\r\n",
        "train_model(dataloaders['Train'], dataloaders['Validation'], start_epoch, parameters['num_epochs'], model, loss_function, optimizer, scheduler, best_acc, best_loss, best_epoch, path_out)"
      ],
      "execution_count": null,
      "outputs": []
    },
    {
      "cell_type": "markdown",
      "metadata": {
        "id": "1R_-lCGKuUty"
      },
      "source": [
        "# Model evaluation\r\n"
      ]
    },
    {
      "cell_type": "markdown",
      "metadata": {
        "id": "_g8F_f4xuY3p"
      },
      "source": [
        "## Retrain model on train and validation sets\r\n"
      ]
    },
    {
      "cell_type": "code",
      "metadata": {
        "colab": {
          "base_uri": "https://localhost:8080/"
        },
        "id": "jPMZI2SLuYMk",
        "outputId": "d1ddd01e-f7c7-4e86-8ee3-0b711bf3e002"
      },
      "source": [
        "df_best = pd.read_csv(os.path.join(path_drive, 'Output_AlexNet_lr_custom_migliore', 'check_point.csv'), index_col=0)\r\n",
        "df_best_settings = pd.read_csv(os.path.join(path_drive, 'Output_AlexNet_lr_custom_migliore', 'settings.csv'), index_col=0)\r\n",
        "\r\n",
        "lr = float(df_best_settings['learning_rate'][0])\r\n",
        "bs = int(df_best_settings['batch_size'][0])\r\n",
        "num_epochs = int(df_best['best_epoch'][0])\r\n",
        "\r\n",
        "# AlexNet\r\n",
        "\r\n",
        "data_transforms = {\r\n",
        "    'TrainVal': transforms.Compose([transforms.RandomHorizontalFlip(0.5),\r\n",
        "                                  transforms.Resize((224,224)),\r\n",
        "                                  transforms.ToTensor(),\r\n",
        "                                  transforms.Normalize([0.485, 0.456, 0.406], [0.229, 0.224, 0.225]),\r\n",
        "                                  ]),\r\n",
        "    'Test': transforms.Compose([transforms.Resize((224,224)),\r\n",
        "                                      transforms.ToTensor(),\r\n",
        "                                      transforms.Normalize([0.485, 0.456, 0.406], [0.229, 0.224, 0.225])\r\n",
        "                                      ])\r\n",
        "                   }\r\n",
        "\r\n",
        "\r\n",
        "img_datasets = {x : datasets.ImageFolder(os.path.join(path_drive, x), data_transforms[x]) for x in ['TrainVal', 'Test']}\r\n",
        "dataloaders = {x : torch.utils.data.DataLoader(img_datasets[x], batch_size=bs, shuffle=True, num_workers=4) for x in ['TrainVal', 'Test']}\r\n",
        "\r\n",
        "size_training_val = len(img_datasets['TrainVal'])\r\n",
        "size_test = len(img_datasets['Test'])\r\n",
        "\r\n",
        "print('Number of fingerprints in training-validation set:', size_training_val)\r\n",
        "print('Number of fingerprints in test set:', size_test)\r\n",
        "\r\n",
        "alexnet = models.alexnet(pretrained=True)\r\n",
        "\r\n",
        "class_layers = list(alexnet.classifier.children())[:-1]\r\n",
        "class_layers.extend([nn.Linear(4096, 2)])       \r\n",
        "alexnet.classifier = nn.Sequential(*class_layers)     \r\n",
        "\r\n",
        "for elem in alexnet.parameters():\r\n",
        "  elem.requires_grad = True\r\n",
        "\r\n",
        "# for elem in alexnet.classifier.parameters():\r\n",
        "#   elem.requires_grad = True\r\n",
        "\r\n",
        "loss_function = nn.CrossEntropyLoss()\r\n",
        "optimizer = optim.Adam(alexnet.parameters(), lr=lr) # <--------------------------------------------- \r\n",
        "# scheduler = optim.lr_scheduler.StepLR(optimizer, 50, 0.5, last_epoch=-1, verbose=False)\r\n",
        "scheduler = False\r\n",
        "model = alexnet"
      ],
      "execution_count": null,
      "outputs": [
        {
          "output_type": "execute_result",
          "data": {
            "text/plain": [
              "137"
            ]
          },
          "metadata": {
            "tags": []
          },
          "execution_count": 14
        }
      ]
    },
    {
      "cell_type": "code",
      "metadata": {
        "id": "PoJVxwcm526N"
      },
      "source": [
        "try:\r\n",
        "  os.mkdir(path_out)\r\n",
        "except FileExistsError:\r\n",
        "  print('Output Directory already exists.')"
      ],
      "execution_count": null,
      "outputs": []
    },
    {
      "cell_type": "code",
      "metadata": {
        "id": "aycgttwRhAd8"
      },
      "source": [
        "# Model training\r\n",
        "\r\n",
        "previous_model = os.path.join(path_out, 'train_weights.pth')\r\n",
        "if os.path.isfile(previous_model):\r\n",
        "  print('Previous model weights found, would you like to load them? (y/n)')\r\n",
        "  resp = input()\r\n",
        "  if resp == 'y' or resp == 'Y':\r\n",
        "    print('Loading weights...')\r\n",
        "    model.load_state_dict(torch.load(previous_model)) \r\n",
        "else:\r\n",
        "  print('No previous model weights found')\r\n",
        "  \r\n",
        "previous_checkpoint = os.path.join(path_out, 'check_point.csv')\r\n",
        "if os.path.isfile(previous_checkpoint):\r\n",
        "  print('Previous checkpoint found, would you like to load it? (y/n)')\r\n",
        "  resp = input()\r\n",
        "  if resp == 'y' or resp == 'Y':\r\n",
        "    print('Loading parameters...')\r\n",
        "    df_checkpoint = pd.read_csv(previous_checkpoint)\r\n",
        "    best_acc = df_checkpoint['best_acc'][0]\r\n",
        "    best_loss = df_checkpoint['best_loss'][0]\r\n",
        "    best_epoch = df_checkpoint['best_epoch'][0]\r\n",
        "    start_epoch = df_checkpoint['last_epoch'][0] + 1\r\n",
        "  else:\r\n",
        "    start_epoch = 1\r\n",
        "    best_acc = 0\r\n",
        "    best_loss= 0\r\n",
        "    best_epoch = 0\r\n",
        "\r\n",
        "else:\r\n",
        "  start_epoch = 1\r\n",
        "  best_acc = 0\r\n",
        "  best_loss= 0\r\n",
        "  best_epoch = 0\r\n",
        "  print('No previous checkpoint found')\r\n",
        "\r\n",
        "\r\n",
        "train_model(dataloaders['TrainVal'], dataloaders['Test'], start_epoch, num_epochs, model, loss_function, optimizer, scheduler, best_acc, best_loss, best_epoch, path_out)\r\n",
        "print_graphs()"
      ],
      "execution_count": null,
      "outputs": []
    },
    {
      "cell_type": "code",
      "metadata": {
        "colab": {
          "base_uri": "https://localhost:8080/",
          "height": 119,
          "referenced_widgets": [
            "2accf1c5de694ac1a1ef5df043929db6",
            "df0bd16951894c3488cc7324bae663d4",
            "98e7c787741b4ffda97c46eebb37f658",
            "38cc27ec45e3474189c67472b706bdd0",
            "628af7af14c64bfab341356e761eda32",
            "51c71fb3be8d4d29afd1a528ba201902",
            "0b1657223b8f416d9e2ebc3afb4d8ca9",
            "17f7213f1f4a4ab0b0d3d3e31b955050"
          ]
        },
        "id": "P03hABrpOB4Y",
        "outputId": "7ed1ce8d-1fa3-4f12-9346-637e025c9e10"
      },
      "source": [
        "# Model evaluation\r\n",
        "\r\n",
        "data_transforms = transforms.Compose([transforms.Resize((224,224)),\r\n",
        "                                      transforms.ToTensor(),\r\n",
        "                                      transforms.Normalize([0.485, 0.456, 0.406], [0.229, 0.224, 0.225])\r\n",
        "                                      ])\r\n",
        "\r\n",
        "img_dataset = datasets.ImageFolder(os.path.join(path_drive, 'Test'), data_transforms)\r\n",
        "dataloader = torch.utils.data.DataLoader(img_dataset, batch_size=1, shuffle=False, num_workers=4)\r\n",
        "\r\n",
        "size_test = len(img_dataset)\r\n",
        "\r\n",
        "print('Number of fingerprints in test set:', size_test)\r\n",
        "\r\n",
        "alexnet = models.alexnet(pretrained=True)\r\n",
        "\r\n",
        "class_layers = list(alexnet.classifier.children())[:-1]\r\n",
        "class_layers.extend([nn.Linear(4096, 2)])       \r\n",
        "alexnet.classifier = nn.Sequential(*class_layers)\r\n",
        "\r\n",
        "alexnet.load_state_dict(torch.load(os.path.join(path_drive, 'Output_AlexNet', 'Output_TrainVal') + '/train_weights.pth'))\r\n",
        "\r\n",
        "# for elem in alexnet.parameters():\r\n",
        "#   elem.requires_grad = True\r\n",
        "\r\n",
        "# for elem in alexnet.classifier.parameters():\r\n",
        "#   elem.requires_grad = True\r\n",
        "\r\n",
        "loss_function = nn.CrossEntropyLoss()\r\n",
        "# optimizer = optim.Adam(alexnet.parameters(), lr=lr) # <--------------------------------------------- \r\n",
        "model = alexnet\r\n",
        "\r\n",
        "model.eval()\r\n",
        "model.cuda()\r\n",
        "\r\n",
        "model_acc_test = 0.0\r\n",
        "total_size_test = 0\r\n",
        "model_loss_test = 0\r\n",
        "true_labels = []\r\n",
        "pred_labels = []\r\n",
        "\r\n",
        "for inp, label in tqdm(dataloader):\r\n",
        "  true_labels.append(label.item())\r\n",
        "  \r\n",
        "  inp = inp.type(torch.FloatTensor).cuda()  \r\n",
        "  label = label.cuda()\r\n",
        "  y = model(inp)\r\n",
        "\r\n",
        "\r\n",
        "  loss = loss_function(y, label)\r\n",
        "\r\n",
        "  pred = torch.log_softmax(y, dim=1)  \r\n",
        "  _, label_pred = torch.max(pred, dim = 1)\r\n",
        "  pred_labels.append(label_pred.item())\r\n",
        "\r\n",
        "  model_loss_test += loss.item()\r\n",
        "  total_size_test += 1\r\n",
        "  model_acc_test += torch.sum(label_pred == label).item()\r\n",
        "    \r\n",
        "model_loss_test = model_loss_test/total_size_test\r\n",
        "model_acc_test  = model_acc_test/total_size_test\r\n",
        "\r\n",
        "pred_labels = ['Adversarial' if el==0 else 'Clean' for el in pred_labels]\r\n",
        "true_labels = ['Adversarial' if el==0 else 'Clean' for el in true_labels]\r\n",
        "\r\n",
        "print('Model accuracy on test set:', model_acc_test)\r\n",
        "print('Model loss on test set:', model_loss_test)"
      ],
      "execution_count": null,
      "outputs": [
        {
          "output_type": "stream",
          "text": [
            "Number of fingerprints in test set: 740\n"
          ],
          "name": "stdout"
        },
        {
          "output_type": "display_data",
          "data": {
            "application/vnd.jupyter.widget-view+json": {
              "model_id": "2accf1c5de694ac1a1ef5df043929db6",
              "version_minor": 0,
              "version_major": 2
            },
            "text/plain": [
              "HBox(children=(FloatProgress(value=0.0, max=740.0), HTML(value='')))"
            ]
          },
          "metadata": {
            "tags": []
          }
        },
        {
          "output_type": "stream",
          "text": [
            "\n",
            "Model accuracy on test set: 0.9864864864864865\n",
            "Model loss on test set: 0.08014080220876807\n"
          ],
          "name": "stdout"
        }
      ]
    },
    {
      "cell_type": "markdown",
      "metadata": {
        "id": "e_RMlYjYLphO"
      },
      "source": [
        "## Confusion matrix\r\n"
      ]
    },
    {
      "cell_type": "code",
      "metadata": {
        "colab": {
          "base_uri": "https://localhost:8080/",
          "height": 385
        },
        "id": "_On4uNhsLndW",
        "outputId": "1f9dc089-641c-4d21-f533-a4558a26e176"
      },
      "source": [
        "labels = ['Adversarial', 'Clean']\r\n",
        "from sklearn.metrics import ConfusionMatrixDisplay\r\n",
        "\r\n",
        "\r\n",
        "c = confusion_matrix(true_labels, pred_labels)\r\n",
        "\r\n",
        "df_cm = pd.DataFrame(c, index = labels, columns = labels)\r\n",
        "plt.figure(figsize = (5,5))\r\n",
        "ax = plt.axes()\r\n",
        "sn.heatmap(df_cm, annot=True)\r\n",
        "ax.set_xlabel('Predicted')\r\n",
        "ax.set_ylabel('True')\r\n",
        "ax.set_title('Confusion matrix')\r\n",
        "# plt.savefig(os.path.join(path_drive, 'ConfMatrix.png'))\r\n",
        "plt.show()\r\n",
        "print(c)"
      ],
      "execution_count": null,
      "outputs": [
        {
          "output_type": "display_data",
          "data": {
            "image/png": "[encoded data removed]",
            "text/plain": [
              "<Figure size 360x360 with 2 Axes>"
            ]
          },
          "metadata": {
            "tags": [],
            "needs_background": "light"
          }
        },
        {
          "output_type": "stream",
          "text": [
            "[[357   3]\n",
            " [  7 373]]\n"
          ],
          "name": "stdout"
        }
      ]
    },
    {
      "cell_type": "code",
      "metadata": {
        "colab": {
          "base_uri": "https://localhost:8080/"
        },
        "id": "tiQNWWmfwGyd",
        "outputId": "ddfc32f8-727b-4ef1-c40e-af8e9fb29d70"
      },
      "source": [
        "import numpy as np\r\n",
        "from sklearn import metrics\r\n",
        "\r\n",
        "pred_labels_num = [0 if el=='Adversarial' else 1 for el in pred_labels]\r\n",
        "true_labels_num = [0 if el=='Adversarial' else 1 for el in true_labels]\r\n",
        "\r\n",
        "fpr, tpr, thresholds = metrics.roc_curve(true_labels_num, pred_labels_num)\r\n",
        "print('True positive ratio:', tpr[1])\r\n",
        "print('False positive ratio:', fpr[1])"
      ],
      "execution_count": null,
      "outputs": [
        {
          "output_type": "stream",
          "text": [
            "True positive ratio: 0.9815789473684211\n",
            "False positive ratio: 0.008333333333333333\n"
          ],
          "name": "stdout"
        }
      ]
    },
    {
      "cell_type": "markdown",
      "metadata": {
        "id": "lSALgWfLdYlm"
      },
      "source": [
        "# Complete training\r\n"
      ]
    },
    {
      "cell_type": "code",
      "metadata": {
        "colab": {
          "base_uri": "https://localhost:8080/"
        },
        "id": "fBeRfwWVdiBq",
        "outputId": "54c6f63c-f045-4020-c871-00f493bbab2f"
      },
      "source": [
        "df_best = pd.read_csv(os.path.join(path_drive, 'Output_AlexNet_lr_custom_migliore', 'check_point.csv'), index_col=0)\r\n",
        "df_best_settings = pd.read_csv(os.path.join(path_drive, 'Output_AlexNet_lr_custom_migliore', 'settings.csv'), index_col=0)\r\n",
        "\r\n",
        "lr = float(df_best_settings['learning_rate'][0])\r\n",
        "bs = int(df_best_settings['batch_size'][0])\r\n",
        "num_epochs = int(df_best['best_epoch'][0])\r\n",
        "\r\n",
        "# AlexNet\r\n",
        "\r\n",
        "data_transforms = transforms.Compose([transforms.RandomHorizontalFlip(0.5),\r\n",
        "                                  transforms.Resize((224,224)),\r\n",
        "                                  transforms.ToTensor(),\r\n",
        "                                  transforms.Normalize([0.485, 0.456, 0.406], [0.229, 0.224, 0.225]),\r\n",
        "                                  ])\r\n",
        "\r\n",
        "img_dataset = datasets.ImageFolder(os.path.join(path_drive, 'Dataset'), data_transforms)\r\n",
        "dataloader = torch.utils.data.DataLoader(img_dataset, batch_size=bs, shuffle=True, num_workers=4)\r\n",
        "\r\n",
        "size_dataset = len(img_dataset)\r\n",
        "\r\n",
        "print('Number of fingerprints in dataset:', size_dataset)\r\n",
        "\r\n",
        "alexnet = models.alexnet(pretrained=True)\r\n",
        "\r\n",
        "class_layers = list(alexnet.classifier.children())[:-1]\r\n",
        "class_layers.extend([nn.Linear(4096, 2)])       \r\n",
        "alexnet.classifier = nn.Sequential(*class_layers)     \r\n",
        "\r\n",
        "for elem in alexnet.parameters():\r\n",
        "  elem.requires_grad = True\r\n",
        "\r\n",
        "# for elem in alexnet.classifier.parameters():\r\n",
        "#   elem.requires_grad = True\r\n",
        "\r\n",
        "loss_function = nn.CrossEntropyLoss()\r\n",
        "optimizer = optim.Adam(alexnet.parameters(), lr=lr) # <--------------------------------------------- \r\n",
        "# scheduler = optim.lr_scheduler.StepLR(optimizer, 50, 0.5, last_epoch=-1, verbose=False)\r\n",
        "scheduler = False\r\n",
        "\r\n",
        "model = alexnet"
      ],
      "execution_count": null,
      "outputs": [
        {
          "output_type": "stream",
          "text": [
            "Number of fingerprints in dataset: 3720\n"
          ],
          "name": "stdout"
        }
      ]
    },
    {
      "cell_type": "code",
      "metadata": {
        "id": "ibdSzP5EfZoi"
      },
      "source": [
        "try:\r\n",
        "  os.mkdir(path_out)\r\n",
        "except FileExistsError:\r\n",
        "  print('Output Directory already exists.')"
      ],
      "execution_count": null,
      "outputs": []
    },
    {
      "cell_type": "code",
      "metadata": {
        "id": "ozsOPhdrfZoj"
      },
      "source": [
        "previous_model = os.path.join(path_out, 'train_weights.pth')\r\n",
        "if os.path.isfile(previous_model):\r\n",
        "  print('Previous model weights found, would you like to load them? (y/n)')\r\n",
        "  resp = input()\r\n",
        "  if resp == 'y' or resp == 'Y':\r\n",
        "    print('Loading weights...')\r\n",
        "    model.load_state_dict(torch.load(previous_model)) \r\n",
        "else:\r\n",
        "  print('No previous model weights found')\r\n",
        "  \r\n",
        "previous_checkpoint = os.path.join(path_out, 'check_point.csv')\r\n",
        "if os.path.isfile(previous_checkpoint):\r\n",
        "  print('Previous checkpoint found, would you like to load it? (y/n)')\r\n",
        "  resp = input()\r\n",
        "  if resp == 'y' or resp == 'Y':\r\n",
        "    print('Loading parameters...')\r\n",
        "    df_checkpoint = pd.read_csv(previous_checkpoint)\r\n",
        "    best_acc = df_checkpoint['best_acc'][0]\r\n",
        "    best_loss = df_checkpoint['best_loss'][0]\r\n",
        "    best_epoch = df_checkpoint['best_epoch'][0]\r\n",
        "    start_epoch = df_checkpoint['last_epoch'][0] + 1\r\n",
        "  else:\r\n",
        "    start_epoch = 1\r\n",
        "    best_acc = 0\r\n",
        "    best_loss= 0\r\n",
        "    best_epoch = 0\r\n",
        "\r\n",
        "else:\r\n",
        "  start_epoch = 1\r\n",
        "  best_acc = 0\r\n",
        "  best_loss= 0\r\n",
        "  best_epoch = 0\r\n",
        "  print('No previous checkpoint found')\r\n",
        "\r\n",
        "\r\n",
        "train_model(dataloader, False, start_epoch, num_epochs, model, loss_function, optimizer, scheduler, best_acc, best_loss, best_epoch, path_out)"
      ],
      "execution_count": null,
      "outputs": []
    },
    {
      "cell_type": "markdown",
      "metadata": {
        "id": "p9tP7Mnva3Mg"
      },
      "source": [
        "# Submission prediction\r\n"
      ]
    },
    {
      "cell_type": "code",
      "metadata": {
        "colab": {
          "base_uri": "https://localhost:8080/",
          "height": 485,
          "referenced_widgets": [
            "7bebfe77e5d344ba84663484ca1a6d05",
            "5aa13f0370fb42b19437ad0cbf10be60",
            "c3338f81943c4e44b299b76f57dda333",
            "6521efa11ffc48d08b94307d3f950a02",
            "e4b5a9f0d50342359da714db1d5d6b78",
            "d2a1a57d2f464e6aba252032b8989c13",
            "911682bf97b64f7a8f2bd3ced87149aa",
            "c4bcbafa317e4677af487560332894b2"
          ]
        },
        "id": "j8HC_zWxa2rR",
        "outputId": "54fc5825-34f3-4c32-fcc1-b4d72bd6a677"
      },
      "source": [
        "data_transforms = transforms.Compose([transforms.Resize((224,224)),\r\n",
        "                                      transforms.ToTensor(),\r\n",
        "                                      transforms.Normalize([0.485, 0.456, 0.406], [0.229, 0.224, 0.225])\r\n",
        "                                      ])\r\n",
        "\r\n",
        "alexnet = models.alexnet(pretrained=True)\r\n",
        "\r\n",
        "class_layers = list(alexnet.classifier.children())[:-1]\r\n",
        "class_layers.extend([nn.Linear(4096, 2)])       \r\n",
        "alexnet.classifier = nn.Sequential(*class_layers)\r\n",
        "\r\n",
        "alexnet.load_state_dict(torch.load(os.path.join(path_drive, 'Output_AlexNet_lr_custom_migliore', 'Output_Complete_Model') + '/train_weights.pth'))\r\n",
        "\r\n",
        "model = alexnet\r\n",
        "\r\n",
        "model.eval()\r\n",
        "model.cuda()\r\n",
        "\r\n",
        "dict_pred = {'Fingerprint' : [],\r\n",
        "             'Class' : []}\r\n",
        "\r\n",
        "print('Predicting submission images...')\r\n",
        "\r\n",
        "for img_name in tqdm(os.listdir(path_test_kaggle)):\r\n",
        "  img = Image.open(os.path.join(path_test_kaggle, img_name))\r\n",
        "  img = data_transforms(img).to(device)\r\n",
        "  img = img.unsqueeze(0)\r\n",
        "  out = model(img)\r\n",
        "\r\n",
        "  pred = torch.log_softmax(out, dim=1)  \r\n",
        "  _, label_pred = torch.max(pred, dim = 1)\r\n",
        "  dict_pred['Fingerprint'].append(img_name)\r\n",
        "  dict_pred['Class'].append(label_pred.item())\r\n",
        "\r\n",
        "\r\n",
        "df_pred = pd.DataFrame(data = dict_pred)\r\n",
        "\r\n",
        "df_pred = df_pred.replace(0, 'Adversarial')\r\n",
        "df_pred = df_pred.replace(1, 'Clean')\r\n",
        "\r\n",
        "df_pred.to_csv(os.path.join(path_drive, 'Output_AlexNet_lr_custom_migliore', 'Output_Complete_Model', 'Submission.csv'), index=False)\r\n",
        "\r\n",
        "df_pred"
      ],
      "execution_count": null,
      "outputs": [
        {
          "output_type": "stream",
          "text": [
            "Predicting submission images...\n"
          ],
          "name": "stdout"
        },
        {
          "output_type": "display_data",
          "data": {
            "application/vnd.jupyter.widget-view+json": {
              "model_id": "7bebfe77e5d344ba84663484ca1a6d05",
              "version_minor": 0,
              "version_major": 2
            },
            "text/plain": [
              "HBox(children=(FloatProgress(value=0.0, max=1200.0), HTML(value='')))"
            ]
          },
          "metadata": {
            "tags": []
          }
        },
        {
          "output_type": "stream",
          "text": [
            "\n"
          ],
          "name": "stdout"
        },
        {
          "output_type": "execute_result",
          "data": {
            "text/html": [
              "<div>\n",
              "<style scoped>\n",
              "    .dataframe tbody tr th:only-of-type {\n",
              "        vertical-align: middle;\n",
              "    }\n",
              "\n",
              "    .dataframe tbody tr th {\n",
              "        vertical-align: top;\n",
              "    }\n",
              "\n",
              "    .dataframe thead th {\n",
              "        text-align: right;\n",
              "    }\n",
              "</style>\n",
              "<table border=\"1\" class=\"dataframe\">\n",
              "  <thead>\n",
              "    <tr style=\"text-align: right;\">\n",
              "      <th></th>\n",
              "      <th>Fingerprint</th>\n",
              "      <th>Class</th>\n",
              "    </tr>\n",
              "  </thead>\n",
              "  <tbody>\n",
              "    <tr>\n",
              "      <th>0</th>\n",
              "      <td>testFingerprint_1050.png</td>\n",
              "      <td>Clean</td>\n",
              "    </tr>\n",
              "    <tr>\n",
              "      <th>1</th>\n",
              "      <td>testFingerprint_152.png</td>\n",
              "      <td>Adversarial</td>\n",
              "    </tr>\n",
              "    <tr>\n",
              "      <th>2</th>\n",
              "      <td>testFingerprint_298.png</td>\n",
              "      <td>Clean</td>\n",
              "    </tr>\n",
              "    <tr>\n",
              "      <th>3</th>\n",
              "      <td>testFingerprint_320.png</td>\n",
              "      <td>Adversarial</td>\n",
              "    </tr>\n",
              "    <tr>\n",
              "      <th>4</th>\n",
              "      <td>testFingerprint_1163.png</td>\n",
              "      <td>Clean</td>\n",
              "    </tr>\n",
              "    <tr>\n",
              "      <th>...</th>\n",
              "      <td>...</td>\n",
              "      <td>...</td>\n",
              "    </tr>\n",
              "    <tr>\n",
              "      <th>1195</th>\n",
              "      <td>testFingerprint_138.png</td>\n",
              "      <td>Adversarial</td>\n",
              "    </tr>\n",
              "    <tr>\n",
              "      <th>1196</th>\n",
              "      <td>testFingerprint_1178.png</td>\n",
              "      <td>Adversarial</td>\n",
              "    </tr>\n",
              "    <tr>\n",
              "      <th>1197</th>\n",
              "      <td>testFingerprint_201.png</td>\n",
              "      <td>Adversarial</td>\n",
              "    </tr>\n",
              "    <tr>\n",
              "      <th>1198</th>\n",
              "      <td>testFingerprint_1067.png</td>\n",
              "      <td>Clean</td>\n",
              "    </tr>\n",
              "    <tr>\n",
              "      <th>1199</th>\n",
              "      <td>testFingerprint_315.png</td>\n",
              "      <td>Clean</td>\n",
              "    </tr>\n",
              "  </tbody>\n",
              "</table>\n",
              "<p>1200 rows × 2 columns</p>\n",
              "</div>"
            ],
            "text/plain": [
              "                   Fingerprint        Class\n",
              "0     testFingerprint_1050.png        Clean\n",
              "1      testFingerprint_152.png  Adversarial\n",
              "2      testFingerprint_298.png        Clean\n",
              "3      testFingerprint_320.png  Adversarial\n",
              "4     testFingerprint_1163.png        Clean\n",
              "...                        ...          ...\n",
              "1195   testFingerprint_138.png  Adversarial\n",
              "1196  testFingerprint_1178.png  Adversarial\n",
              "1197   testFingerprint_201.png  Adversarial\n",
              "1198  testFingerprint_1067.png        Clean\n",
              "1199   testFingerprint_315.png        Clean\n",
              "\n",
              "[1200 rows x 2 columns]"
            ]
          },
          "metadata": {
            "tags": []
          },
          "execution_count": 23
        }
      ]
    }
  ]
}